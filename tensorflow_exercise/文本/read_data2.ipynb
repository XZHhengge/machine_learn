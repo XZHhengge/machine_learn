{
 "cells": [
  {
   "cell_type": "code",
   "execution_count": null,
   "metadata": {
    "collapsed": true
   },
   "outputs": [],
   "source": [
    "import sys\n",
    "import os\n",
    "import jieba\n",
    "# 该数据集label为类型, content为该内容\n",
    "train_file = 'train_file'\n",
    "val_file = 'val_file'\n",
    "test_file = 'test_file'\n",
    "\n",
    "seg_train_file = 'train_seg_file'\n",
    "seg_val_file = 'val_seg_file'\n",
    "seg_test_file = 'test_seg_file'\n",
    "\n",
    "vocal_file = 'vocab'\n",
    "category = 'category'\n",
    "\n"
   ]
  },
  {
   "cell_type": "code",
   "execution_count": null,
   "outputs": [],
   "source": [
    "with open(val_file, 'r') as f:\n",
    "    lines = f.readlines()\n",
    "    \n",
    "label, content = lines[0].decode('utf-8').strip('\\r\\n').split('\\t')\n",
    "word_iter = jieba.cut(content)\n",
    "\n",
    "print(content)\n",
    "print('/ '.join(word_iter))\n",
    "\n"
   ],
   "metadata": {
    "collapsed": false,
    "pycharm": {
     "name": "#%%\n"
    }
   }
  },
  {
   "cell_type": "code",
   "execution_count": null,
   "outputs": [],
   "source": [
    "def generate_seg_file(input_file, out_seg_file):\n",
    "    with open(input_file, 'r') as f:\n",
    "        lines = f.readlines()\n",
    "        \n",
    "    with open(out_seg_file, 'w') as f:\n",
    "        for line in lines:\n",
    "            label, content = line.strip('\\n').split(',')\n",
    "            word_iter = jieba.cut(content)\n",
    "            word_content = ''\n",
    "            for word in word_iter:\n",
    "                word = word.strip(' ')\n",
    "                if word != '':\n",
    "                    word_content += word + ' '\n",
    "            out_line = '%s\\t%s\\n' % (label, word_content.strip(' '))\n",
    "            f.write(out_line.encode('utf-8'))\n",
    "            \n",
    "generate_seg_file(train_file, seg_train_file)\n",
    "generate_seg_file(val_file, seg_val_file)\n",
    "generate_seg_file(test_file, seg_test_file)\n"
   ],
   "metadata": {
    "collapsed": false,
    "pycharm": {
     "name": "#%%\n"
    }
   }
  },
  {
   "cell_type": "code",
   "execution_count": null,
   "outputs": [],
   "source": [
    "def generate_vocab_file(input_seg_file, output_vocab_file):\n",
    "    with open(input_seg_file, 'r') as f:\n",
    "        lines = f.readlines()\n",
    "    word_dict = {}\n",
    "    for line in lines:\n",
    "        label, content = line.strip('\\r\\n').decode('utf-8').split('\\t')\n",
    "        for word in content.split():\n",
    "            word_dict.setdefault(word, 0)\n",
    "            word_dict[word] += 1\n",
    "    \n",
    "    sorted_word_dict = sorted(\n",
    "        word_dict.items(), key = lambda d:d[1], reverse=True)\n",
    "    with open(output_vocab_file, 'w') as f:\n",
    "        f.write('<UNK>\\t1000000\\n')\n",
    "        for item in sorted_word_dict:\n",
    "            f.write('%s\\t%d\\n' % (item[0].encode('utf-8'), item[1]))\n",
    "\n",
    "generate_vocab_file(seg_train_file, vocal_file)            "
   ],
   "metadata": {
    "collapsed": false,
    "pycharm": {
     "name": "#%%\n"
    }
   }
  },
  {
   "cell_type": "code",
   "execution_count": 1,
   "outputs": [],
   "source": [
    "def generare_category_dcit(input_file, categegory_file):\n",
    "    with open(input_file, 'r') as f:\n",
    "        lines = f.readlines()\n",
    "    categegory_dict = {}\n",
    "    for line in lines:\n",
    "        label, content = line.strip('\\r\\n').decode('utf-8').split('\\t')\n",
    "        categegory_dict.setdefault(label, 0)\n",
    "        categegory_dict[label] += 1\n",
    "    category_number = len(categegory_dict)\n",
    "    with open(categegory_file, 'w') as f:\n",
    "        for category in categegory_dict:\n",
    "            line = '%s\\n' % category.encode('utf-8')\n",
    "            print('{0}\\t{1}'.format(category, categegory_dict))\n",
    "            f.write(line)\n",
    "            \n",
    "\n",
    "        "
   ],
   "metadata": {
    "collapsed": false,
    "pycharm": {
     "name": "#%%\n",
     "is_executing": false
    }
   }
  },
  {
   "cell_type": "code",
   "execution_count": null,
   "outputs": [],
   "source": [
    "\n"
   ],
   "metadata": {
    "collapsed": false,
    "pycharm": {
     "name": "#%%\n"
    }
   }
  }
 ],
 "metadata": {
  "kernelspec": {
   "display_name": "Python 3",
   "language": "python",
   "name": "python3"
  },
  "language_info": {
   "codemirror_mode": {
    "name": "ipython",
    "version": 2
   },
   "file_extension": ".py",
   "mimetype": "text/x-python",
   "name": "python",
   "nbconvert_exporter": "python",
   "pygments_lexer": "ipython2",
   "version": "2.7.6"
  },
  "pycharm": {
   "stem_cell": {
    "cell_type": "raw",
    "source": [],
    "metadata": {
     "collapsed": false
    }
   }
  }
 },
 "nbformat": 4,
 "nbformat_minor": 0
}