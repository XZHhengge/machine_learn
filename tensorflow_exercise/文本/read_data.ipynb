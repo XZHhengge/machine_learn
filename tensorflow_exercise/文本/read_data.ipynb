{
 "cells": [
  {
   "cell_type": "code",
   "execution_count": 1,
   "outputs": [],
   "source": [
    "import os\n",
    "import pandas as pd\n",
    "import numpy as np\n",
    "import jieba\n",
    "dirfiles = os.listdir('.\\deep_learn')\n",
    "news_suhusite_xml = '''.\\deep_learn\\news_sohusite_xml.dat'''\n",
    "\n",
    "train_file = '.\\deep_learn\\sohu_train.txt'\n",
    "test_file = '.\\deep_learn\\sohu_test.txt'\n",
    "\n",
    "seg_train_file = '.\\deep_learn\\sohu_seg_train_file.txt'\n",
    "seg_test_file = '.\\deep_learn\\sohu_seg_test_file.txt'\n",
    "\n",
    "vocab_file =  '.\\deep_learn\\sohu_vocab.txt'\n",
    "category_file = '.\\deep_learn\\sohu_category.txt'\n",
    "\n",
    "\n",
    "\n",
    "# with open(news_suhusite_xml, 'rb') as f:\n",
    "#     for _ in range(0, 10):\n",
    "#         print(f.readline())"
   ],
   "metadata": {
    "collapsed": false,
    "pycharm": {
     "name": "#%%\n",
     "is_executing": false
    }
   }
  },
  {
   "cell_type": "code",
   "execution_count": 32,
   "outputs": [
    {
     "name": "stdout",
     "text": [
      "娱乐\t《 青蛇 》 造型师 默认 新 《 红楼梦 》 额妆 抄袭 （ 图 ） 凡是 看过 电影 《 青蛇 》 的 人 ， 都 不会 忘记 青白 二蛇 的 经典 造型 ： 飘逸 的 身材 ， 妩媚 的 妆容 ， 而 最 独特 的 就是 取材于 京剧 女角 头型 的 精华 之 处 “ 打 片子 ” （ 也 被 称之为 额妆 ） 。 １ ３ 年 后 的 今天 ， 大家 又 在 新版 《 红楼梦 》 的 定妆 照里 看到 这种 熟悉 的 妆容 “ 打 片子 ” 。 昨日 ， 有 知情人 向 记者 报料 ： 叶锦添 抄袭 的 就是 香港 另 一 著名 造型师 吴宝玲 的 作品 。 记者 立即 致电 正在 香港 的 吴宝玲 ， 当 记者 问到 同 是 一个 行业 的 叶锦添 是否 抄袭 其 旧作 时 ， 吴宝玲 比较 委婉 地说 ： “ 还是 有 一点点 吧 。 不过 我 也 不好 说 什么 ， 毕竟 已经 过去 这么 多年 ， 新一代 的 年轻人 或许 并 不 熟悉 过去 的 电影 。 ” 《 青蛇 》 中王 祖贤 造型 首次 用到 “ 打 片子 ” 新 《 红楼梦 》 造型 中袭 人 衣着 华贵 （ 李艳饰 ） 程媛媛 饰演 平儿 贾链 公子哥 气质 （ 王 龙华 饰 ） 回忆 ： “ 青白 二蛇 ” 这样 “ 打 片子 ” 说起 吴宝玲 ， 许多 人 都 会 感到 非常 陌生 ， 但是 一 提到 《 画中仙 》 、 《 倩女幽魂 ２ 》 、 《 刀马旦 》 、 《 笑傲江湖 》 、 《 白发 魔女 ２ 》 、 《 青蛇 》 等 电影 ， 以及 《 京城 四少 》 、 《 白娘子 传奇 》 、 《 倚天 屠龙记 》 、 《 小李飞刀 》 等 电视剧 ， 肯定 记忆犹新 。 这些 影视剧 的 造型师 就是 这位 吴宝玲 ， 可以 说 ， 她 的 服装 创意 几乎 影响 了 一个 时代 的 古装 电影 审美 。 在 新版 《 红楼梦 》 的 定妆 照 在 网上 公布 出现 以后 ， 就 有 内地 的 朋友 发现 里面 的 “ 打 片子 ” 和 《 青蛇 》 的 用法 十分相似 ， 特意 打电话 告诉 吴宝玲 ， 吴宝玲 昨日 告诉 记者 ： “ 看到 这些 造型 ， 我 认为 用 得 可能 不是 十分 到位 。 ” 她 回忆起 十几年 前 为什么 会 单单 选择 用 戏剧 中 “ 打 片子 ” 这样 的 形式 ： “ 因为 徐克 给 我 看 了 剧本 ， 我 就 了解 到 人物 必须 非常 妩媚 ， 传统 的 东西 也 应该 出来 ， 马上 就 能够 脱颖而出 ， 所以 就 想起 小时候 看 粤剧 的 时候 ， 演员 用 的 ＂ 打 片子 ＂ ， 我 想 电影 里面 会 有 很多 特技 、 灯光 、 神怪 、 风吹 、 雨雪 ， 这种 气氛 整合 起来 就 蛮 独特 的 ， 而 ＂ 打 片子 ＂ 这种 手法 本身 就 非常 独特 ， 一般 的 电影 不 可能 用 ， 因为 很难 找到 合适 的 地方 来 达到 这种 高度 和谐 ， 但是 在 《 青蛇 》 里面 却 可以 。 ” 确定 了 自己 的 想法 后 ， 她 就 大胆 地 开始 进行 人物造型 设计 ， 包括 如何 突出 王祖贤 、 张曼玉 的 身段 和 气质 ， 摒弃 掉 传统 戏曲 里面 的 那种 大袖 ， 而是 进行 了 直筒 的 裁剪 ， 这才 形成 了 我们 熟悉 的 经典 形象 “ 青白 二蛇 ” 。 吴宝玲 告诉 记者 ， 其实 在 一部 戏 里面 ， 一个 演员 的 形象 是否 成功 突出 ， 很大 程度 上 取决于 头部 的 设计 ， 所以 这 也 很 考验 一个 造型师 的 胆量 。 评价 ： 新 《 红楼梦 》 “ 打 片子 ” 显 老态 对于 由 叶锦添 设计 的 新版 《 红楼梦 》 女性 人物造型 普遍 采用 “ 打 片子 ” 这一 做法 ， 吴宝玲 一 开始 说 得 比较 客气 ： “ 其实 这 也 是 大家 的 取材 相同 而已 ， 因为 都 来自 京剧 ， 没有 说好 或者 不好 ， 大家 手法 不 一样 罢了 。 ” 但是 提到 这种 造型 所 带来 的 效果 时 ， 这位 曾经 成功 使用 “ 打 片子 ” 的 造型师 则 显得 有些 不吐 不快 ： “ 其实 这样 做会 有 一点 压制 那些 年轻人 的 活力 。 大家 都 看过 《 红楼梦 》 ， 都 了解 里面 的 人物 其实 都 蛮 小 的 ， 当年 我 给 王祖贤 做 这个 设计 的 时候 也 反复 考虑 过 它 的 弊端 ， 因为 这 其实 会 有 一些 显 老气 ， 她 那 时候 也 不过 ３ ０ 岁 。 这部 戏 却 大面积 地 使用 这种 手法 ， 妆 似乎 也 有 一点 浓 ， 头发 也 做 得 有些 死板 ， 看来 还是 太 戏曲 化 了 。 ” 由于 吴宝玲 在 香港 出 道 很早 ， 所以 无论是 对 造型 设计 本身 还是 对 文化 的 钻研 ， 都 有 独到之处 ， 而且 往往 能 把 两者 结合 得 很 好 ， 她 甚至 感觉 新版 《 红楼梦 》 的 设计 缺乏 文学性 ， “ 《 红楼梦 》 本身 就 很 让 人 很 期待 ， 假如 我来 设计 造型 的话 ， 因为 片中 将 出现 很多 生活 场景 ， 我 可能 会 尽量 做 得 不 这么 沉重 ， 而且 人物 角色 的 感觉 应该 有所 区分 ， 薛宝钗 就是 薛宝钗 ， 而 不会 分不清楚 她 和 林黛玉 。 ” 最后 吴宝玲 表示 ， 她 还 会 观察 一段时间 ， 看 后期 的 设计 是否 真的 完全 会 对 《 青蛇 》 有所 模仿 ， 必要 的 时候 她 可能 向 法律 寻找 帮助 。 昨晚 ， 记者 致电 新 《 红楼梦 》 导演 李少 红 ， 但 她 的 手机 一直 无人 接听 。 （ 责任编辑 ： Ｃ Ｌ ）\n\n"
     ],
     "output_type": "stream"
    }
   ],
   "source": [
    "with open('./deep_learn/sohu_seg_train_file.txt', 'r') as f:\n",
    "    print(f.readline())"
   ],
   "metadata": {
    "collapsed": false,
    "pycharm": {
     "name": "#%%\n",
     "is_executing": false
    }
   }
  },
  {
   "cell_type": "code",
   "execution_count": 9,
   "outputs": [],
   "source": [
    "# test\n",
    "def generate_seg_file(input_file, out_seg_file):\n",
    "    with open(input_file, 'r', encoding='utf8') as f:\n",
    "        lines = f.readlines()\n",
    "        \n",
    "    with open(out_seg_file, 'w', encoding='utf8') as f:\n",
    "        for line in lines:\n",
    "            label, content = line.strip('\\n').split('\\t')\n",
    "            word_iter = jieba.cut(content)\n",
    "            word_content = ''\n",
    "            for word in word_iter:\n",
    "                word = word.strip(' ')\n",
    "                if word != '':\n",
    "                    word_content += word + ' '\n",
    "            out_line = '%s\\t%s\\n' % (label, word_content.strip(' '))\n",
    "            f.write(out_line)\n",
    "            \n",
    "generate_seg_file(test_file, seg_test_file)"
   ],
   "metadata": {
    "collapsed": false,
    "pycharm": {
     "name": "#%%\n",
     "is_executing": false
    }
   }
  },
  {
   "cell_type": "code",
   "execution_count": 30,
   "outputs": [],
   "source": [
    "# train\n",
    "def generate_seg_file(input_file, out_seg_file):\n",
    "    with open(input_file, 'r', encoding='utf8') as f:\n",
    "        lines = f.readlines()\n",
    "        \n",
    "    with open(out_seg_file, 'w') as f:\n",
    "        for line in lines[1:]:\n",
    "            index, label, content, count = line.strip('\\n').split(',')\n",
    "            word_iter = jieba.cut(content)\n",
    "            word_content = ''\n",
    "            for word in word_iter:\n",
    "                word = word.strip(' ')\n",
    "                if word != '':\n",
    "                    word_content += word + ' '\n",
    "            out_line = '%s\\t%s\\n' % (label, word_content.strip(' '))\n",
    "            f.write(out_line)\n",
    "            \n",
    "generate_seg_file(train_file, seg_train_file)\n",
    "# generate_seg_file(val_file. seg_val_file)\n",
    "# generate_seg_file(test_file, seg_test_file)"
   ],
   "metadata": {
    "collapsed": false,
    "pycharm": {
     "name": "#%%\n",
     "is_executing": false
    }
   }
  },
  {
   "cell_type": "code",
   "execution_count": 38,
   "metadata": {
    "collapsed": true,
    "pycharm": {
     "is_executing": false
    }
   },
   "outputs": [],
   "source": [
    "\n",
    "def generate_vocab_file(input_seg_file, output_vocab_file):\n",
    "    with open(input_seg_file, 'r') as f:\n",
    "        lines = f.readlines()\n",
    "    word_dict = {}\n",
    "    for line in lines:\n",
    "        label, content = line.strip('\\r\\n').split('\\t')\n",
    "        for word in content.split():\n",
    "            word_dict.setdefault(word, 0)\n",
    "            word_dict[word] += 1\n",
    "    \n",
    "    sorted_word_dict = sorted(\n",
    "        word_dict.items(), key = lambda d:d[1], reverse=True)\n",
    "    with open(output_vocab_file, 'w') as f:\n",
    "        f.write('<UNK>\\t1000000\\n')\n",
    "        for item in sorted_word_dict:\n",
    "            f.write('%s\\t%d\\n' % (item[0], item[1]))\n",
    "\n",
    "generate_vocab_file(seg_train_file, vocab_file)     "
   ]
  },
  {
   "cell_type": "code",
   "execution_count": 17,
   "outputs": [
    {
     "name": "stdout",
     "text": [
      "娱乐\t1934\n财经\t1877\n房地产\t1872\n旅游\t1998\n科技\t1988\n体育\t1978\n健康\t2000\n教育\t1979\n汽车\t1996\n新闻\t1935\n文化\t1995\n女人\t1997\n"
     ],
     "output_type": "stream"
    }
   ],
   "source": [
    "\n",
    "def generare_category_dict(input_file, categegory_file):\n",
    "    with open(input_file, 'r', encoding='utf8') as f:\n",
    "        lines = f.readlines()[1:]\n",
    "    categegory_dict = {}\n",
    "    for line in lines:\n",
    "        index, label, content, count = line.strip('\\r\\n').split(',')\n",
    "        categegory_dict.setdefault(label, 0)\n",
    "        categegory_dict[label] += 1\n",
    "    category_number = len(categegory_dict)\n",
    "    with open(categegory_file, 'w') as f:\n",
    "        for category in categegory_dict:\n",
    "            line = '%s\\n' % category\n",
    "            print('{0}\\t{1}'.format(category, categegory_dict[category]))\n",
    "            f.write(line)\n",
    "            \n",
    "generare_category_dict(train_file, category_file)"
   ],
   "metadata": {
    "collapsed": false,
    "pycharm": {
     "name": "#%%\n",
     "is_executing": false
    }
   }
  },
  {
   "cell_type": "code",
   "execution_count": 32,
   "outputs": [
    {
     "name": "stdout",
     "text": [
      "{'分类': 1, '娱乐': 1934, '财经': 1877, '房地产': 1872, '旅游': 1998, '科技': 1988, '体育': 1978, '健康': 2000, '教育': 1979, '汽车': 1996, '新闻': 1935, '文化': 1995, '女人': 1997}\n"
     ],
     "output_type": "stream"
    }
   ],
   "source": [
    "def test_category(input_file):\n",
    "    with open(input_file, 'r', encoding='utf-8-sig') as f:\n",
    "    # with open(input_file, 'r', encoding='utf8') as f:\n",
    "        lines = f.readlines()\n",
    "    category_dict = {}\n",
    "    for line in lines:\n",
    "        index, label, content, count = line.strip('\\r\\n').split(',')\n",
    "        category_dict.setdefault(label, 0)\n",
    "        category_dict[label] +=1\n",
    "    category_number = len(category_dict)\n",
    "    # for category in category_dict:\n",
    "        \n",
    "        # print('{0}\\t{1}'.format(category, category_dict[category]))\n",
    "    # print(category_dict['娱乐'], category_dict['娱乐'])\n",
    "    print(category_dict)\n",
    "test_category(train_file)\n",
    "# test_category(test_file)"
   ],
   "metadata": {
    "collapsed": false,
    "pycharm": {
     "name": "#%%\n",
     "is_executing": false
    }
   }
  },
  {
   "cell_type": "code",
   "execution_count": 40,
   "outputs": [
    {
     "name": "stdout",
     "text": [
      "娱乐\n\n财经\n\n房地产\n\n旅游\n\n科技\n\n体育\n\n健康\n\n教育\n\n汽车\n\n新闻\n\n"
     ],
     "output_type": "stream"
    }
   ],
   "source": [
    "with open(category_file, 'r') as f:\n",
    "    for _ in range(10):\n",
    "        content = f.readline()\n",
    "        print(content)"
   ],
   "metadata": {
    "collapsed": false,
    "pycharm": {
     "name": "#%%\n",
     "is_executing": false
    }
   }
  },
  {
   "cell_type": "code",
   "execution_count": null,
   "outputs": [],
   "source": [
    "\n"
   ],
   "metadata": {
    "collapsed": false,
    "pycharm": {
     "name": "#%%\n"
    }
   }
  }
 ],
 "metadata": {
  "kernelspec": {
   "display_name": "Python 3",
   "language": "python",
   "name": "python3"
  },
  "language_info": {
   "codemirror_mode": {
    "name": "ipython",
    "version": 2
   },
   "file_extension": ".py",
   "mimetype": "text/x-python",
   "name": "python",
   "nbconvert_exporter": "python",
   "pygments_lexer": "ipython2",
   "version": "2.7.6"
  },
  "pycharm": {
   "stem_cell": {
    "cell_type": "raw",
    "source": [],
    "metadata": {
     "collapsed": false
    }
   }
  }
 },
 "nbformat": 4,
 "nbformat_minor": 0
}