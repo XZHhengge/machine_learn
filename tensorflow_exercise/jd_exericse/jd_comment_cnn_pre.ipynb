{
 "cells": [
  {
   "cell_type": "code",
   "execution_count": 2,
   "metadata": {
    "collapsed": true,
    "pycharm": {
     "is_executing": false
    }
   },
   "outputs": [
    {
     "name": "stdout",
     "text": [
      "INFO:tensorflow:Restoring parameters from .\\deep_learn\\jd_deep_learn\\jd_lstm_runout\\model\\ckp-10000\n",
      "Tensor(\"cnn/conv1d/conv1d/Conv2D:0\", shape=(100, 1, 118, 256), dtype=float32)\nTensor(\"Placeholder:0\", shape=(100, 120), dtype=int32)\n"
     ],
     "output_type": "stream"
    }
   ],
   "source": [
    "import tensorflow as tf\n",
    "\n",
    "cnn_graph_path = r'.\\deep_learn\\jd_deep_learn\\jd_lstm_runout\\model\\ckp-10000.meta'\n",
    "cnn_model_path = r'.\\deep_learn\\jd_deep_learn\\jd_lstm_runout\\model\\ckp-10000'\n",
    "with tf.Session() as sess:\n",
    "    saver = tf.train.import_meta_graph(cnn_graph_path)\n",
    "    saver.restore(sess, cnn_model_path)\n",
    "    tensor_inputs2 = tf.get_default_graph().get_tensor_by_name('Placeholder:0')\n",
    "    tensor_outpus2 = tf.get_default_graph().get_tensor_by_name('metrics/ArgMax:0')\n",
    "    tensor_keep_prob2 = tf.get_default_graph().get_tensor_by_name('keep_prob:0')\n",
    "    conv_node = tf.get_default_graph().get_tensor_by_name('cnn/conv1d/conv1d/Conv2D:0')\n",
    "    print(conv_node)\n",
    "    print(tensor_inputs2)"
   ]
  },
  {
   "cell_type": "code",
   "execution_count": 2,
   "outputs": [
    {
     "name": "stdout",
     "text": [
      "INFO:tensorflow:Restoring parameters from .\\deep_learn\\jd_deep_learn\\jd_lstm_runout\\model\\ckp-10000\n",
      "WARNING:tensorflow:From <ipython-input-2-da68f343dad4>:9: convert_variables_to_constants (from tensorflow.python.framework.graph_util_impl) is deprecated and will be removed in a future version.\nInstructions for updating:\nUse tf.compat.v1.graph_util.convert_variables_to_constants\n",
      "WARNING:tensorflow:From D:\\Anaconda\\lib\\site-packages\\tensorflow\\python\\framework\\graph_util_impl.py:245: extract_sub_graph (from tensorflow.python.framework.graph_util_impl) is deprecated and will be removed in a future version.\nInstructions for updating:\nUse tf.compat.v1.graph_util.extract_sub_graph\n",
      "INFO:tensorflow:Froze 7 variables.\n",
      "INFO:tensorflow:Converted 7 variables to const ops.\n"
     ],
     "output_type": "stream"
    }
   ],
   "source": [
    "from tensorflow.python.framework import graph_util\n",
    "with tf.Session() as sess:\n",
    "    saver = tf.train.import_meta_graph(cnn_graph_path)\n",
    "    saver.restore(sess, cnn_model_path)\n",
    "    \n",
    "    graph_def = tf.get_default_graph().as_graph_def()\n",
    "    output_graph_def = graph_util.convert_variables_to_constants(\n",
    "        sess, graph_def,['metrics/ArgMax']\n",
    "    )\n",
    "    with tf.gfile.GFile('.\\deep_learn\\jd_deep_learn\\jd_lstm_runout\\model\\jd_comment_cnn_model.pb', 'w') as gf:\n",
    "        serialized_graph = output_graph_def.SerializeToString()\n",
    "        gf.write(serialized_graph)\n"
   ],
   "metadata": {
    "collapsed": false,
    "pycharm": {
     "name": "#%%\n",
     "is_executing": false
    }
   }
  },
  {
   "cell_type": "code",
   "execution_count": 9,
   "outputs": [
    {
     "name": "stdout",
     "text": [
      "WARNING:tensorflow:From D:\\Anaconda\\lib\\site-packages\\tensorflow\\python\\saved_model\\signature_def_utils_impl.py:205: build_tensor_info (from tensorflow.python.saved_model.utils_impl) is deprecated and will be removed in a future version.\nInstructions for updating:\nThis function will only be available through the v1 compatibility library as tf.compat.v1.saved_model.utils.build_tensor_info or tf.compat.v1.saved_model.build_tensor_info.\n",
      "INFO:tensorflow:No assets to save.\n",
      "INFO:tensorflow:No assets to write.\n",
      "INFO:tensorflow:SavedModel written to: .\\deep_learn\\jd_deep_learn\\jd_lstm_runout\\model\\jd_comment_cnn_serving\\saved_model.pb\n"
     ],
     "output_type": "stream"
    },
    {
     "data": {
      "text/plain": "b'.\\\\deep_learn\\\\jd_deep_learn\\\\jd_lstm_runout\\\\model\\\\jd_comment_cnn_serving\\\\saved_model.pb'"
     },
     "metadata": {},
     "output_type": "execute_result",
     "execution_count": 9
    }
   ],
   "source": [
    "from tensorflow.python.saved_model import signature_constants\n",
    "from tensorflow.python.saved_model import tag_constants\n",
    "import os\n",
    "export = r'.\\deep_learn\\jd_deep_learn\\jd_lstm_runout\\model\\jd_comment_cnn_serving'\n",
    "graph_pb = '.\\deep_learn\\jd_deep_learn\\jd_lstm_runout\\model\\jd_comment_cnn_model.pb'\n",
    "# if not os.path.exists(export):\n",
    "#     os.mkdir(export)\n",
    "# if not tf.gfile.Exists(export):\n",
    "#     tf.gfile.MakeDirs(export)\n",
    "builder = tf.saved_model.builder.SavedModelBuilder(export)\n",
    "\n",
    "if tf.gfile.Exists(export):\n",
    "    tf.gfile.MakeDirs(export)\n",
    "with tf.gfile.GFile(graph_pb, 'rb') as f:\n",
    "    graph_def_ = tf.GraphDef()\n",
    "    graph_def_.ParseFromString(f.read())\n",
    "\n",
    "sigs = {}\n",
    "with tf.Session(graph=tf.Graph()) as sess:\n",
    "    tf.import_graph_def(graph_def_, name='')\n",
    "    g = tf.get_default_graph()\n",
    "    inp = g.get_tensor_by_name('Placeholder:0')\n",
    "    oup = g.get_tensor_by_name('metrics/ArgMax:0')\n",
    "    keep = g.get_tensor_by_name('keep_prob:0')\n",
    "    \n",
    "    sigs[signature_constants.DEFAULT_SERVING_SIGNATURE_DEF_KEY] = \\\n",
    "        tf.saved_model.signature_def_utils.predict_signature_def(\n",
    "        {'in': inp}, {'out': oup}\n",
    "    )\n",
    "    builder.add_meta_graph_and_variables(sess, [tag_constants.SERVING],\n",
    "                                         signature_def_map=sigs)\n",
    "builder.save()"
   ],
   "metadata": {
    "collapsed": false,
    "pycharm": {
     "name": "#%%\n",
     "is_executing": false
    }
   }
  },
  {
   "cell_type": "code",
   "execution_count": null,
   "outputs": [],
   "source": [
    "\n"
   ],
   "metadata": {
    "collapsed": false,
    "pycharm": {
     "name": "#%%\n"
    }
   }
  }
 ],
 "metadata": {
  "kernelspec": {
   "display_name": "Python 3",
   "language": "python",
   "name": "python3"
  },
  "language_info": {
   "codemirror_mode": {
    "name": "ipython",
    "version": 2
   },
   "file_extension": ".py",
   "mimetype": "text/x-python",
   "name": "python",
   "nbconvert_exporter": "python",
   "pygments_lexer": "ipython2",
   "version": "2.7.6"
  },
  "pycharm": {
   "stem_cell": {
    "cell_type": "raw",
    "source": [],
    "metadata": {
     "collapsed": false
    }
   }
  }
 },
 "nbformat": 4,
 "nbformat_minor": 0
}