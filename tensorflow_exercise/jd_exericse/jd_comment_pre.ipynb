{
 "cells": [
  {
   "cell_type": "code",
   "execution_count": 1,
   "metadata": {
    "collapsed": true,
    "pycharm": {
     "is_executing": false
    }
   },
   "outputs": [
    {
     "name": "stdout",
     "text": [
      "C:\\Users\\Administrator\n"
     ],
     "output_type": "stream"
    }
   ],
   "source": [
    "import tensorflow as tf\n",
    "\n",
    "import os\n",
    "print(os.getcwd())\n",
    "\n",
    "vocab_file = r'.\\deep_learn\\jd_deep_learn\\jd_vocab.txt'\n"
   ]
  },
  {
   "cell_type": "code",
   "execution_count": 2,
   "outputs": [
    {
     "name": "stdout",
     "text": [
      "4761\n0\n"
     ],
     "output_type": "stream"
    }
   ],
   "source": [
    "class Vocab:\n",
    "    def __init__(self, filename, num_word_threshold):\n",
    "        self._word_to_id = {}\n",
    "        self._unk = -1\n",
    "        self._num_word_threshold = num_word_threshold\n",
    "        self._read_dict(filename)\n",
    "        \n",
    "    def _read_dict(self, filename):\n",
    "        with open(filename, 'r', encoding='utf-8') as f:\n",
    "            lines = f.readlines()\n",
    "        for line in lines:\n",
    "            word, frequency = line.strip('\\r\\n').split('\\t')\n",
    "            frequency = int(frequency)\n",
    "            if frequency < self._num_word_threshold:\n",
    "                continue\n",
    "            idx = len(self._word_to_id)\n",
    "            if word == '<UNK>':\n",
    "                self._unk = idx\n",
    "            self._word_to_id[word] = idx\n",
    "    def word_to_id(self, word):\n",
    "        return self._word_to_id.get(word, self._unk)\n",
    "    \n",
    "    @property\n",
    "    def unk(self):\n",
    "        return self._unk\n",
    "    \n",
    "    def size(self):\n",
    "        return len(self._word_to_id)\n",
    "    \n",
    "    def sentence_to_id(self, sentence):\n",
    "        \n",
    "        word_ids = [self.word_to_id(cur_word) for cur_word in sentence.split()]\n",
    "        return word_ids\n",
    "vocab = Vocab(vocab_file, 10)\n",
    "vocab_size = vocab.size()\n",
    "print(vocab_size)\n",
    "print(vocab.unk)"
   ],
   "metadata": {
    "collapsed": false,
    "pycharm": {
     "name": "#%%\n",
     "is_executing": false
    }
   }
  },
  {
   "cell_type": "code",
   "execution_count": 3,
   "outputs": [
    {
     "name": "stderr",
     "text": [
      "Building prefix dict from the default dictionary ...\n",
      "Loading model from cache C:\\Users\\ADMINI~1\\AppData\\Local\\Temp\\jieba.cache\n",
      "Loading model cost 0.590 seconds.\n",
      "Prefix dict has been built succesfully.\n"
     ],
     "output_type": "stream"
    },
    {
     "name": "stdout",
     "text": [
      "(100, 120)\n(120,)\n"
     ],
     "output_type": "stream"
    }
   ],
   "source": [
    "sentence = '首先和评论手机，手机质感和流畅的还是很不错，系统很好就是新系统bug有点多，总体评价来说还是很不错的一个购物外形外观延用了苹果手机的一惯外形和材质，拿在手里很有质感和重量，去实体门店看过了，经常断货，没想到京东有，就果断拍下了！择这款手机的主要原因是它的 屏幕介于苹果11PRO和11PRO MAX 之间，对于我来讲，简直是为我定制的一样，怎样挑剔的我，都无话可说了！屏幕的分辨率也是很棒的，音效我感觉比以前的苹果手机也有进步。拍照效果一如既往的好啊，像素高的超前，还增加了广角拍摄，十分满意！运行速度流畅，反应速度很快，完美！'\n",
    "import jieba\n",
    "import numpy as np\n",
    "sentence_list = jieba.cut(sentence)\n",
    "words = ' '.join([word for word in sentence_list])\n",
    "id_words = vocab.sentence_to_id(words)\n",
    "id_words = id_words[0: 120]\n",
    "padding_num = 120 - len(id_words)\n",
    "id_words = id_words + [0 for _ in range(padding_num)]\n",
    "id_words_list = []\n",
    "for _ in range(100):\n",
    "    id_words_list.append(id_words)\n",
    "# print(np.asarray(id_words_list, dtype=np.int32))\n",
    "print(np.asarray(id_words_list, dtype=np.int32).shape)\n",
    "word_np = np.asarray(id_words_list, dtype=np.int32)\n",
    "simple_word = np.asarray(id_words)\n",
    "# print(words)\n",
    "print(simple_word.shape)\n"
   ],
   "metadata": {
    "collapsed": false,
    "pycharm": {
     "name": "#%%\n",
     "is_executing": false
    }
   }
  },
  {
   "cell_type": "code",
   "execution_count": 5,
   "outputs": [
    {
     "name": "stdout",
     "text": [
      "INFO:tensorflow:Restoring parameters from .\\deep_learn\\jd_deep_learn\\jd_lstm_runout\\lstm_model\\ckp-10000\n",
      "Tensor(\"Placeholder:0\", shape=(120, ?), dtype=int32)\n"
     ],
     "output_type": "stream"
    },
    {
     "traceback": [
      "\u001b[1;31m---------------------------------------------------------------------------\u001b[0m",
      "\u001b[1;31mInvalidArgumentError\u001b[0m                      Traceback (most recent call last)",
      "\u001b[1;32mD:\\Anaconda\\lib\\site-packages\\tensorflow\\python\\client\\session.py\u001b[0m in \u001b[0;36m_do_call\u001b[1;34m(self, fn, *args)\u001b[0m\n\u001b[0;32m   1333\u001b[0m     \u001b[1;32mtry\u001b[0m\u001b[1;33m:\u001b[0m\u001b[1;33m\u001b[0m\u001b[1;33m\u001b[0m\u001b[0m\n\u001b[1;32m-> 1334\u001b[1;33m       \u001b[1;32mreturn\u001b[0m \u001b[0mfn\u001b[0m\u001b[1;33m(\u001b[0m\u001b[1;33m*\u001b[0m\u001b[0margs\u001b[0m\u001b[1;33m)\u001b[0m\u001b[1;33m\u001b[0m\u001b[1;33m\u001b[0m\u001b[0m\n\u001b[0m\u001b[0;32m   1335\u001b[0m     \u001b[1;32mexcept\u001b[0m \u001b[0merrors\u001b[0m\u001b[1;33m.\u001b[0m\u001b[0mOpError\u001b[0m \u001b[1;32mas\u001b[0m \u001b[0me\u001b[0m\u001b[1;33m:\u001b[0m\u001b[1;33m\u001b[0m\u001b[1;33m\u001b[0m\u001b[0m\n",
      "\u001b[1;32mD:\\Anaconda\\lib\\site-packages\\tensorflow\\python\\client\\session.py\u001b[0m in \u001b[0;36m_run_fn\u001b[1;34m(feed_dict, fetch_list, target_list, options, run_metadata)\u001b[0m\n\u001b[0;32m   1318\u001b[0m       return self._call_tf_sessionrun(\n\u001b[1;32m-> 1319\u001b[1;33m           options, feed_dict, fetch_list, target_list, run_metadata)\n\u001b[0m\u001b[0;32m   1320\u001b[0m \u001b[1;33m\u001b[0m\u001b[0m\n",
      "\u001b[1;32mD:\\Anaconda\\lib\\site-packages\\tensorflow\\python\\client\\session.py\u001b[0m in \u001b[0;36m_call_tf_sessionrun\u001b[1;34m(self, options, feed_dict, fetch_list, target_list, run_metadata)\u001b[0m\n\u001b[0;32m   1406\u001b[0m         \u001b[0mself\u001b[0m\u001b[1;33m.\u001b[0m\u001b[0m_session\u001b[0m\u001b[1;33m,\u001b[0m \u001b[0moptions\u001b[0m\u001b[1;33m,\u001b[0m \u001b[0mfeed_dict\u001b[0m\u001b[1;33m,\u001b[0m \u001b[0mfetch_list\u001b[0m\u001b[1;33m,\u001b[0m \u001b[0mtarget_list\u001b[0m\u001b[1;33m,\u001b[0m\u001b[1;33m\u001b[0m\u001b[1;33m\u001b[0m\u001b[0m\n\u001b[1;32m-> 1407\u001b[1;33m         run_metadata)\n\u001b[0m\u001b[0;32m   1408\u001b[0m \u001b[1;33m\u001b[0m\u001b[0m\n",
      "\u001b[1;31mInvalidArgumentError\u001b[0m: You must feed a value for placeholder tensor 'Placeholder_2' with dtype int32 and shape [100,120]\n\t [[{{node Placeholder_2}}]]",
      "\nDuring handling of the above exception, another exception occurred:\n",
      "\u001b[1;31mInvalidArgumentError\u001b[0m                      Traceback (most recent call last)",
      "\u001b[1;32m<ipython-input-5-71fa7a7a6b22>\u001b[0m in \u001b[0;36m<module>\u001b[1;34m\u001b[0m\n\u001b[0;32m     18\u001b[0m     \u001b[0mprint\u001b[0m\u001b[1;33m(\u001b[0m\u001b[0mtensor_inputs\u001b[0m\u001b[1;33m)\u001b[0m\u001b[1;33m\u001b[0m\u001b[1;33m\u001b[0m\u001b[0m\n\u001b[0;32m     19\u001b[0m     \u001b[1;31m# acc = tf.argmax(tensor_outpus, 1)\u001b[0m\u001b[1;33m\u001b[0m\u001b[1;33m\u001b[0m\u001b[1;33m\u001b[0m\u001b[0m\n\u001b[1;32m---> 20\u001b[1;33m     \u001b[0mpred\u001b[0m \u001b[1;33m=\u001b[0m \u001b[0msess\u001b[0m\u001b[1;33m.\u001b[0m\u001b[0mrun\u001b[0m\u001b[1;33m(\u001b[0m\u001b[0mtensor_outpus\u001b[0m\u001b[1;33m,\u001b[0m \u001b[0mfeed_dict\u001b[0m\u001b[1;33m=\u001b[0m\u001b[1;33m{\u001b[0m\u001b[0minputs\u001b[0m\u001b[1;33m:\u001b[0m \u001b[0msimple_word\u001b[0m\u001b[1;33m,\u001b[0m \u001b[0mtensor_keep_prob\u001b[0m\u001b[1;33m:\u001b[0m\u001b[1;36m1\u001b[0m\u001b[1;33m}\u001b[0m\u001b[1;33m)\u001b[0m\u001b[1;33m\u001b[0m\u001b[1;33m\u001b[0m\u001b[0m\n\u001b[0m\u001b[0;32m     21\u001b[0m     \u001b[0mprint\u001b[0m\u001b[1;33m(\u001b[0m\u001b[0mpred\u001b[0m\u001b[1;33m[\u001b[0m\u001b[1;36m0\u001b[0m\u001b[1;33m]\u001b[0m\u001b[1;33m)\u001b[0m\u001b[1;33m\u001b[0m\u001b[1;33m\u001b[0m\u001b[0m\n\u001b[0;32m     22\u001b[0m     \u001b[1;31m# print(sess.run())\u001b[0m\u001b[1;33m\u001b[0m\u001b[1;33m\u001b[0m\u001b[1;33m\u001b[0m\u001b[0m\n",
      "\u001b[1;32mD:\\Anaconda\\lib\\site-packages\\tensorflow\\python\\client\\session.py\u001b[0m in \u001b[0;36mrun\u001b[1;34m(self, fetches, feed_dict, options, run_metadata)\u001b[0m\n\u001b[0;32m    927\u001b[0m     \u001b[1;32mtry\u001b[0m\u001b[1;33m:\u001b[0m\u001b[1;33m\u001b[0m\u001b[1;33m\u001b[0m\u001b[0m\n\u001b[0;32m    928\u001b[0m       result = self._run(None, fetches, feed_dict, options_ptr,\n\u001b[1;32m--> 929\u001b[1;33m                          run_metadata_ptr)\n\u001b[0m\u001b[0;32m    930\u001b[0m       \u001b[1;32mif\u001b[0m \u001b[0mrun_metadata\u001b[0m\u001b[1;33m:\u001b[0m\u001b[1;33m\u001b[0m\u001b[1;33m\u001b[0m\u001b[0m\n\u001b[0;32m    931\u001b[0m         \u001b[0mproto_data\u001b[0m \u001b[1;33m=\u001b[0m \u001b[0mtf_session\u001b[0m\u001b[1;33m.\u001b[0m\u001b[0mTF_GetBuffer\u001b[0m\u001b[1;33m(\u001b[0m\u001b[0mrun_metadata_ptr\u001b[0m\u001b[1;33m)\u001b[0m\u001b[1;33m\u001b[0m\u001b[1;33m\u001b[0m\u001b[0m\n",
      "\u001b[1;32mD:\\Anaconda\\lib\\site-packages\\tensorflow\\python\\client\\session.py\u001b[0m in \u001b[0;36m_run\u001b[1;34m(self, handle, fetches, feed_dict, options, run_metadata)\u001b[0m\n\u001b[0;32m   1150\u001b[0m     \u001b[1;32mif\u001b[0m \u001b[0mfinal_fetches\u001b[0m \u001b[1;32mor\u001b[0m \u001b[0mfinal_targets\u001b[0m \u001b[1;32mor\u001b[0m \u001b[1;33m(\u001b[0m\u001b[0mhandle\u001b[0m \u001b[1;32mand\u001b[0m \u001b[0mfeed_dict_tensor\u001b[0m\u001b[1;33m)\u001b[0m\u001b[1;33m:\u001b[0m\u001b[1;33m\u001b[0m\u001b[1;33m\u001b[0m\u001b[0m\n\u001b[0;32m   1151\u001b[0m       results = self._do_run(handle, final_targets, final_fetches,\n\u001b[1;32m-> 1152\u001b[1;33m                              feed_dict_tensor, options, run_metadata)\n\u001b[0m\u001b[0;32m   1153\u001b[0m     \u001b[1;32melse\u001b[0m\u001b[1;33m:\u001b[0m\u001b[1;33m\u001b[0m\u001b[1;33m\u001b[0m\u001b[0m\n\u001b[0;32m   1154\u001b[0m       \u001b[0mresults\u001b[0m \u001b[1;33m=\u001b[0m \u001b[1;33m[\u001b[0m\u001b[1;33m]\u001b[0m\u001b[1;33m\u001b[0m\u001b[1;33m\u001b[0m\u001b[0m\n",
      "\u001b[1;32mD:\\Anaconda\\lib\\site-packages\\tensorflow\\python\\client\\session.py\u001b[0m in \u001b[0;36m_do_run\u001b[1;34m(self, handle, target_list, fetch_list, feed_dict, options, run_metadata)\u001b[0m\n\u001b[0;32m   1326\u001b[0m     \u001b[1;32mif\u001b[0m \u001b[0mhandle\u001b[0m \u001b[1;32mis\u001b[0m \u001b[1;32mNone\u001b[0m\u001b[1;33m:\u001b[0m\u001b[1;33m\u001b[0m\u001b[1;33m\u001b[0m\u001b[0m\n\u001b[0;32m   1327\u001b[0m       return self._do_call(_run_fn, feeds, fetches, targets, options,\n\u001b[1;32m-> 1328\u001b[1;33m                            run_metadata)\n\u001b[0m\u001b[0;32m   1329\u001b[0m     \u001b[1;32melse\u001b[0m\u001b[1;33m:\u001b[0m\u001b[1;33m\u001b[0m\u001b[1;33m\u001b[0m\u001b[0m\n\u001b[0;32m   1330\u001b[0m       \u001b[1;32mreturn\u001b[0m \u001b[0mself\u001b[0m\u001b[1;33m.\u001b[0m\u001b[0m_do_call\u001b[0m\u001b[1;33m(\u001b[0m\u001b[0m_prun_fn\u001b[0m\u001b[1;33m,\u001b[0m \u001b[0mhandle\u001b[0m\u001b[1;33m,\u001b[0m \u001b[0mfeeds\u001b[0m\u001b[1;33m,\u001b[0m \u001b[0mfetches\u001b[0m\u001b[1;33m)\u001b[0m\u001b[1;33m\u001b[0m\u001b[1;33m\u001b[0m\u001b[0m\n",
      "\u001b[1;32mD:\\Anaconda\\lib\\site-packages\\tensorflow\\python\\client\\session.py\u001b[0m in \u001b[0;36m_do_call\u001b[1;34m(self, fn, *args)\u001b[0m\n\u001b[0;32m   1346\u001b[0m           \u001b[1;32mpass\u001b[0m\u001b[1;33m\u001b[0m\u001b[1;33m\u001b[0m\u001b[0m\n\u001b[0;32m   1347\u001b[0m       \u001b[0mmessage\u001b[0m \u001b[1;33m=\u001b[0m \u001b[0merror_interpolation\u001b[0m\u001b[1;33m.\u001b[0m\u001b[0minterpolate\u001b[0m\u001b[1;33m(\u001b[0m\u001b[0mmessage\u001b[0m\u001b[1;33m,\u001b[0m \u001b[0mself\u001b[0m\u001b[1;33m.\u001b[0m\u001b[0m_graph\u001b[0m\u001b[1;33m)\u001b[0m\u001b[1;33m\u001b[0m\u001b[1;33m\u001b[0m\u001b[0m\n\u001b[1;32m-> 1348\u001b[1;33m       \u001b[1;32mraise\u001b[0m \u001b[0mtype\u001b[0m\u001b[1;33m(\u001b[0m\u001b[0me\u001b[0m\u001b[1;33m)\u001b[0m\u001b[1;33m(\u001b[0m\u001b[0mnode_def\u001b[0m\u001b[1;33m,\u001b[0m \u001b[0mop\u001b[0m\u001b[1;33m,\u001b[0m \u001b[0mmessage\u001b[0m\u001b[1;33m)\u001b[0m\u001b[1;33m\u001b[0m\u001b[1;33m\u001b[0m\u001b[0m\n\u001b[0m\u001b[0;32m   1349\u001b[0m \u001b[1;33m\u001b[0m\u001b[0m\n\u001b[0;32m   1350\u001b[0m   \u001b[1;32mdef\u001b[0m \u001b[0m_extend_graph\u001b[0m\u001b[1;33m(\u001b[0m\u001b[0mself\u001b[0m\u001b[1;33m)\u001b[0m\u001b[1;33m:\u001b[0m\u001b[1;33m\u001b[0m\u001b[1;33m\u001b[0m\u001b[0m\n",
      "\u001b[1;31mInvalidArgumentError\u001b[0m: You must feed a value for placeholder tensor 'Placeholder_2' with dtype int32 and shape [100,120]\n\t [[node Placeholder_2 (defined at <ipython-input-4-34157cf6dab0>:13) ]]\n\nCaused by op 'Placeholder_2', defined at:\n  File \"D:\\Anaconda\\lib\\runpy.py\", line 193, in _run_module_as_main\n    \"__main__\", mod_spec)\n  File \"D:\\Anaconda\\lib\\runpy.py\", line 85, in _run_code\n    exec(code, run_globals)\n  File \"D:\\Anaconda\\lib\\site-packages\\ipykernel_launcher.py\", line 16, in <module>\n    app.launch_new_instance()\n  File \"D:\\Anaconda\\lib\\site-packages\\traitlets\\config\\application.py\", line 658, in launch_instance\n    app.start()\n  File \"D:\\Anaconda\\lib\\site-packages\\ipykernel\\kernelapp.py\", line 505, in start\n    self.io_loop.start()\n  File \"D:\\Anaconda\\lib\\site-packages\\tornado\\platform\\asyncio.py\", line 148, in start\n    self.asyncio_loop.run_forever()\n  File \"D:\\Anaconda\\lib\\asyncio\\base_events.py\", line 539, in run_forever\n    self._run_once()\n  File \"D:\\Anaconda\\lib\\asyncio\\base_events.py\", line 1775, in _run_once\n    handle._run()\n  File \"D:\\Anaconda\\lib\\asyncio\\events.py\", line 88, in _run\n    self._context.run(self._callback, *self._args)\n  File \"D:\\Anaconda\\lib\\site-packages\\tornado\\ioloop.py\", line 690, in <lambda>\n    lambda f: self._run_callback(functools.partial(callback, future))\n  File \"D:\\Anaconda\\lib\\site-packages\\tornado\\ioloop.py\", line 743, in _run_callback\n    ret = callback()\n  File \"D:\\Anaconda\\lib\\site-packages\\tornado\\gen.py\", line 781, in inner\n    self.run()\n  File \"D:\\Anaconda\\lib\\site-packages\\tornado\\gen.py\", line 742, in run\n    yielded = self.gen.send(value)\n  File \"D:\\Anaconda\\lib\\site-packages\\ipykernel\\kernelbase.py\", line 357, in process_one\n    yield gen.maybe_future(dispatch(*args))\n  File \"D:\\Anaconda\\lib\\site-packages\\tornado\\gen.py\", line 209, in wrapper\n    yielded = next(result)\n  File \"D:\\Anaconda\\lib\\site-packages\\ipykernel\\kernelbase.py\", line 267, in dispatch_shell\n    yield gen.maybe_future(handler(stream, idents, msg))\n  File \"D:\\Anaconda\\lib\\site-packages\\tornado\\gen.py\", line 209, in wrapper\n    yielded = next(result)\n  File \"D:\\Anaconda\\lib\\site-packages\\ipykernel\\kernelbase.py\", line 534, in execute_request\n    user_expressions, allow_stdin,\n  File \"D:\\Anaconda\\lib\\site-packages\\tornado\\gen.py\", line 209, in wrapper\n    yielded = next(result)\n  File \"D:\\Anaconda\\lib\\site-packages\\ipykernel\\ipkernel.py\", line 294, in do_execute\n    res = shell.run_cell(code, store_history=store_history, silent=silent)\n  File \"D:\\Anaconda\\lib\\site-packages\\ipykernel\\zmqshell.py\", line 536, in run_cell\n    return super(ZMQInteractiveShell, self).run_cell(*args, **kwargs)\n  File \"D:\\Anaconda\\lib\\site-packages\\IPython\\core\\interactiveshell.py\", line 2848, in run_cell\n    raw_cell, store_history, silent, shell_futures)\n  File \"D:\\Anaconda\\lib\\site-packages\\IPython\\core\\interactiveshell.py\", line 2874, in _run_cell\n    return runner(coro)\n  File \"D:\\Anaconda\\lib\\site-packages\\IPython\\core\\async_helpers.py\", line 67, in _pseudo_sync_runner\n    coro.send(None)\n  File \"D:\\Anaconda\\lib\\site-packages\\IPython\\core\\interactiveshell.py\", line 3049, in run_cell_async\n    interactivity=interactivity, compiler=compiler, result=result)\n  File \"D:\\Anaconda\\lib\\site-packages\\IPython\\core\\interactiveshell.py\", line 3214, in run_ast_nodes\n    if (yield from self.run_code(code, result)):\n  File \"D:\\Anaconda\\lib\\site-packages\\IPython\\core\\interactiveshell.py\", line 3296, in run_code\n    exec(code_obj, self.user_global_ns, self.user_ns)\n  File \"<ipython-input-4-34157cf6dab0>\", line 13, in <module>\n    saver = tf.train.import_meta_graph(lstm_graph_path)\n  File \"D:\\Anaconda\\lib\\site-packages\\tensorflow\\python\\training\\saver.py\", line 1435, in import_meta_graph\n    meta_graph_or_file, clear_devices, import_scope, **kwargs)[0]\n  File \"D:\\Anaconda\\lib\\site-packages\\tensorflow\\python\\training\\saver.py\", line 1457, in _import_meta_graph_with_return_elements\n    **kwargs))\n  File \"D:\\Anaconda\\lib\\site-packages\\tensorflow\\python\\framework\\meta_graph.py\", line 806, in import_scoped_meta_graph_with_return_elements\n    return_elements=return_elements)\n  File \"D:\\Anaconda\\lib\\site-packages\\tensorflow\\python\\util\\deprecation.py\", line 507, in new_func\n    return func(*args, **kwargs)\n  File \"D:\\Anaconda\\lib\\site-packages\\tensorflow\\python\\framework\\importer.py\", line 442, in import_graph_def\n    _ProcessNewOps(graph)\n  File \"D:\\Anaconda\\lib\\site-packages\\tensorflow\\python\\framework\\importer.py\", line 235, in _ProcessNewOps\n    for new_op in graph._add_new_tf_operations(compute_devices=False):  # pylint: disable=protected-access\n  File \"D:\\Anaconda\\lib\\site-packages\\tensorflow\\python\\framework\\ops.py\", line 3433, in _add_new_tf_operations\n    for c_op in c_api_util.new_tf_operations(self)\n  File \"D:\\Anaconda\\lib\\site-packages\\tensorflow\\python\\framework\\ops.py\", line 3433, in <listcomp>\n    for c_op in c_api_util.new_tf_operations(self)\n  File \"D:\\Anaconda\\lib\\site-packages\\tensorflow\\python\\framework\\ops.py\", line 3325, in _create_op_from_tf_operation\n    ret = Operation(c_op, self)\n  File \"D:\\Anaconda\\lib\\site-packages\\tensorflow\\python\\framework\\ops.py\", line 1801, in __init__\n    self._traceback = tf_stack.extract_stack()\n\nInvalidArgumentError (see above for traceback): You must feed a value for placeholder tensor 'Placeholder_2' with dtype int32 and shape [100,120]\n\t [[node Placeholder_2 (defined at <ipython-input-4-34157cf6dab0>:13) ]]\n"
     ],
     "ename": "InvalidArgumentError",
     "evalue": "You must feed a value for placeholder tensor 'Placeholder_2' with dtype int32 and shape [100,120]\n\t [[node Placeholder_2 (defined at <ipython-input-4-34157cf6dab0>:13) ]]\n\nCaused by op 'Placeholder_2', defined at:\n  File \"D:\\Anaconda\\lib\\runpy.py\", line 193, in _run_module_as_main\n    \"__main__\", mod_spec)\n  File \"D:\\Anaconda\\lib\\runpy.py\", line 85, in _run_code\n    exec(code, run_globals)\n  File \"D:\\Anaconda\\lib\\site-packages\\ipykernel_launcher.py\", line 16, in <module>\n    app.launch_new_instance()\n  File \"D:\\Anaconda\\lib\\site-packages\\traitlets\\config\\application.py\", line 658, in launch_instance\n    app.start()\n  File \"D:\\Anaconda\\lib\\site-packages\\ipykernel\\kernelapp.py\", line 505, in start\n    self.io_loop.start()\n  File \"D:\\Anaconda\\lib\\site-packages\\tornado\\platform\\asyncio.py\", line 148, in start\n    self.asyncio_loop.run_forever()\n  File \"D:\\Anaconda\\lib\\asyncio\\base_events.py\", line 539, in run_forever\n    self._run_once()\n  File \"D:\\Anaconda\\lib\\asyncio\\base_events.py\", line 1775, in _run_once\n    handle._run()\n  File \"D:\\Anaconda\\lib\\asyncio\\events.py\", line 88, in _run\n    self._context.run(self._callback, *self._args)\n  File \"D:\\Anaconda\\lib\\site-packages\\tornado\\ioloop.py\", line 690, in <lambda>\n    lambda f: self._run_callback(functools.partial(callback, future))\n  File \"D:\\Anaconda\\lib\\site-packages\\tornado\\ioloop.py\", line 743, in _run_callback\n    ret = callback()\n  File \"D:\\Anaconda\\lib\\site-packages\\tornado\\gen.py\", line 781, in inner\n    self.run()\n  File \"D:\\Anaconda\\lib\\site-packages\\tornado\\gen.py\", line 742, in run\n    yielded = self.gen.send(value)\n  File \"D:\\Anaconda\\lib\\site-packages\\ipykernel\\kernelbase.py\", line 357, in process_one\n    yield gen.maybe_future(dispatch(*args))\n  File \"D:\\Anaconda\\lib\\site-packages\\tornado\\gen.py\", line 209, in wrapper\n    yielded = next(result)\n  File \"D:\\Anaconda\\lib\\site-packages\\ipykernel\\kernelbase.py\", line 267, in dispatch_shell\n    yield gen.maybe_future(handler(stream, idents, msg))\n  File \"D:\\Anaconda\\lib\\site-packages\\tornado\\gen.py\", line 209, in wrapper\n    yielded = next(result)\n  File \"D:\\Anaconda\\lib\\site-packages\\ipykernel\\kernelbase.py\", line 534, in execute_request\n    user_expressions, allow_stdin,\n  File \"D:\\Anaconda\\lib\\site-packages\\tornado\\gen.py\", line 209, in wrapper\n    yielded = next(result)\n  File \"D:\\Anaconda\\lib\\site-packages\\ipykernel\\ipkernel.py\", line 294, in do_execute\n    res = shell.run_cell(code, store_history=store_history, silent=silent)\n  File \"D:\\Anaconda\\lib\\site-packages\\ipykernel\\zmqshell.py\", line 536, in run_cell\n    return super(ZMQInteractiveShell, self).run_cell(*args, **kwargs)\n  File \"D:\\Anaconda\\lib\\site-packages\\IPython\\core\\interactiveshell.py\", line 2848, in run_cell\n    raw_cell, store_history, silent, shell_futures)\n  File \"D:\\Anaconda\\lib\\site-packages\\IPython\\core\\interactiveshell.py\", line 2874, in _run_cell\n    return runner(coro)\n  File \"D:\\Anaconda\\lib\\site-packages\\IPython\\core\\async_helpers.py\", line 67, in _pseudo_sync_runner\n    coro.send(None)\n  File \"D:\\Anaconda\\lib\\site-packages\\IPython\\core\\interactiveshell.py\", line 3049, in run_cell_async\n    interactivity=interactivity, compiler=compiler, result=result)\n  File \"D:\\Anaconda\\lib\\site-packages\\IPython\\core\\interactiveshell.py\", line 3214, in run_ast_nodes\n    if (yield from self.run_code(code, result)):\n  File \"D:\\Anaconda\\lib\\site-packages\\IPython\\core\\interactiveshell.py\", line 3296, in run_code\n    exec(code_obj, self.user_global_ns, self.user_ns)\n  File \"<ipython-input-4-34157cf6dab0>\", line 13, in <module>\n    saver = tf.train.import_meta_graph(lstm_graph_path)\n  File \"D:\\Anaconda\\lib\\site-packages\\tensorflow\\python\\training\\saver.py\", line 1435, in import_meta_graph\n    meta_graph_or_file, clear_devices, import_scope, **kwargs)[0]\n  File \"D:\\Anaconda\\lib\\site-packages\\tensorflow\\python\\training\\saver.py\", line 1457, in _import_meta_graph_with_return_elements\n    **kwargs))\n  File \"D:\\Anaconda\\lib\\site-packages\\tensorflow\\python\\framework\\meta_graph.py\", line 806, in import_scoped_meta_graph_with_return_elements\n    return_elements=return_elements)\n  File \"D:\\Anaconda\\lib\\site-packages\\tensorflow\\python\\util\\deprecation.py\", line 507, in new_func\n    return func(*args, **kwargs)\n  File \"D:\\Anaconda\\lib\\site-packages\\tensorflow\\python\\framework\\importer.py\", line 442, in import_graph_def\n    _ProcessNewOps(graph)\n  File \"D:\\Anaconda\\lib\\site-packages\\tensorflow\\python\\framework\\importer.py\", line 235, in _ProcessNewOps\n    for new_op in graph._add_new_tf_operations(compute_devices=False):  # pylint: disable=protected-access\n  File \"D:\\Anaconda\\lib\\site-packages\\tensorflow\\python\\framework\\ops.py\", line 3433, in _add_new_tf_operations\n    for c_op in c_api_util.new_tf_operations(self)\n  File \"D:\\Anaconda\\lib\\site-packages\\tensorflow\\python\\framework\\ops.py\", line 3433, in <listcomp>\n    for c_op in c_api_util.new_tf_operations(self)\n  File \"D:\\Anaconda\\lib\\site-packages\\tensorflow\\python\\framework\\ops.py\", line 3325, in _create_op_from_tf_operation\n    ret = Operation(c_op, self)\n  File \"D:\\Anaconda\\lib\\site-packages\\tensorflow\\python\\framework\\ops.py\", line 1801, in __init__\n    self._traceback = tf_stack.extract_stack()\n\nInvalidArgumentError (see above for traceback): You must feed a value for placeholder tensor 'Placeholder_2' with dtype int32 and shape [100,120]\n\t [[node Placeholder_2 (defined at <ipython-input-4-34157cf6dab0>:13) ]]\n",
     "output_type": "error"
    }
   ],
   "source": [
    "# lstm_model\n",
    "lstm_graph_path = r'.\\deep_learn\\jd_deep_learn\\jd_lstm_runout\\lstm_model\\ckp-10000.meta'\n",
    "lstm_model_path = r'.\\deep_learn\\jd_deep_learn\\jd_lstm_runout\\lstm_model\\ckp-10000'\n",
    "# batch_size = 100\n",
    "# num_timesteps = 120\n",
    "# inputs = tf.placeholder(tf.int32, (batch_size, num_timesteps))\n",
    "# outputs = tf.placeholder(tf.int32, (batch_size, ))\n",
    "# keep_prob = tf.placeholder(tf.float32, name='keep_prob')\n",
    "inputs = tf.placeholder(tf.int32, (120))\n",
    "# outputs = tf.placeholder(tf.int32, (100, ))\n",
    "with tf.Session() as sess:\n",
    "    saver = tf.train.import_meta_graph(lstm_graph_path)\n",
    "    saver.restore(sess, lstm_model_path)\n",
    "    tensor_inputs = tf.get_default_graph().get_tensor_by_name('Placeholder:0')\n",
    "    tensor_outpus = tf.get_default_graph().get_tensor_by_name('metrics/ArgMax:0')\n",
    "    tensor_keep_prob = tf.get_default_graph().get_tensor_by_name('keep_prob:0')\n",
    "    print(tensor_inputs)\n",
    "    # acc = tf.argmax(tensor_outpus, 1)\n",
    "    pred = sess.run(tensor_outpus, feed_dict={inputs: simple_word, tensor_keep_prob:1})\n",
    "    print(pred[0])\n",
    "    # print(sess.run())\n"
   ],
   "metadata": {
    "collapsed": false,
    "pycharm": {
     "name": "#%%\n",
     "is_executing": false
    }
   }
  },
  {
   "cell_type": "code",
   "execution_count": 47,
   "outputs": [
    {
     "name": "stdout",
     "text": [
      "INFO:tensorflow:Restoring parameters from .\\deep_learn\\jd_deep_learn\\jd_lstm_runout\\lstm_model\\ckp-10000\n",
      "WARNING:tensorflow:From <ipython-input-47-b32866457e6c>:9: convert_variables_to_constants (from tensorflow.python.framework.graph_util_impl) is deprecated and will be removed in a future version.\nInstructions for updating:\nUse tf.compat.v1.graph_util.convert_variables_to_constants\n",
      "WARNING:tensorflow:From D:\\Anaconda\\lib\\site-packages\\tensorflow\\python\\framework\\graph_util_impl.py:245: extract_sub_graph (from tensorflow.python.framework.graph_util_impl) is deprecated and will be removed in a future version.\nInstructions for updating:\nUse tf.compat.v1.graph_util.extract_sub_graph\n",
      "INFO:tensorflow:Froze 9 variables.\n",
      "INFO:tensorflow:Converted 9 variables to const ops.\n"
     ],
     "output_type": "stream"
    }
   ],
   "source": [
    "# ckp 转 pb\n",
    "from tensorflow.python.framework import graph_util\n",
    "with tf.Session() as sess:\n",
    "    saver = tf.train.import_meta_graph(lstm_graph_path)\n",
    "    saver.restore(sess, lstm_model_path)\n",
    "    \n",
    "    graph_def = tf.get_default_graph().as_graph_def()\n",
    "    output_graph_def = graph_util.convert_variables_to_constants(\n",
    "        sess, graph_def,['metrics/ArgMax']\n",
    "    )\n",
    "    with tf.gfile.GFile('.\\deep_learn\\jd_deep_learn\\jd_lstm_runout\\lstm_model\\jd_comment_lstm_model.pb', 'w') as gf:\n",
    "        serialized_graph = output_graph_def.SerializeToString()\n",
    "        gf.write(serialized_graph)"
   ],
   "metadata": {
    "collapsed": false,
    "pycharm": {
     "name": "#%%\n",
     "is_executing": false
    }
   }
  },
  {
   "cell_type": "code",
   "execution_count": 51,
   "outputs": [
    {
     "name": "stdout",
     "text": [
      "Placeholder\nkeep_prob\nembedding/embedding\nembedding/embedding/read\nembedding/embedding_lookup/axis\nembedding/embedding_lookup\nembedding/embedding_lookup/Identity\nlstm_nn/MultiRNNCellZeroState/DropoutWrapperZeroState/BasicLSTMCellZeroState/Const\nlstm_nn/MultiRNNCellZeroState/DropoutWrapperZeroState/BasicLSTMCellZeroState/Const_1\nlstm_nn/MultiRNNCellZeroState/DropoutWrapperZeroState/BasicLSTMCellZeroState/concat/axis\nlstm_nn/MultiRNNCellZeroState/DropoutWrapperZeroState/BasicLSTMCellZeroState/concat\nlstm_nn/MultiRNNCellZeroState/DropoutWrapperZeroState/BasicLSTMCellZeroState/zeros/Const\nlstm_nn/MultiRNNCellZeroState/DropoutWrapperZeroState/BasicLSTMCellZeroState/zeros\nlstm_nn/MultiRNNCellZeroState/DropoutWrapperZeroState/BasicLSTMCellZeroState/Const_4\nlstm_nn/MultiRNNCellZeroState/DropoutWrapperZeroState/BasicLSTMCellZeroState/Const_5\nlstm_nn/MultiRNNCellZeroState/DropoutWrapperZeroState/BasicLSTMCellZeroState/concat_1/axis\nlstm_nn/MultiRNNCellZeroState/DropoutWrapperZeroState/BasicLSTMCellZeroState/concat_1\nlstm_nn/MultiRNNCellZeroState/DropoutWrapperZeroState/BasicLSTMCellZeroState/zeros_1/Const\nlstm_nn/MultiRNNCellZeroState/DropoutWrapperZeroState/BasicLSTMCellZeroState/zeros_1\nlstm_nn/MultiRNNCellZeroState/DropoutWrapperZeroState_1/BasicLSTMCellZeroState/Const\nlstm_nn/MultiRNNCellZeroState/DropoutWrapperZeroState_1/BasicLSTMCellZeroState/Const_1\nlstm_nn/MultiRNNCellZeroState/DropoutWrapperZeroState_1/BasicLSTMCellZeroState/concat/axis\nlstm_nn/MultiRNNCellZeroState/DropoutWrapperZeroState_1/BasicLSTMCellZeroState/concat\nlstm_nn/MultiRNNCellZeroState/DropoutWrapperZeroState_1/BasicLSTMCellZeroState/zeros/Const\nlstm_nn/MultiRNNCellZeroState/DropoutWrapperZeroState_1/BasicLSTMCellZeroState/zeros\nlstm_nn/MultiRNNCellZeroState/DropoutWrapperZeroState_1/BasicLSTMCellZeroState/Const_4\nlstm_nn/MultiRNNCellZeroState/DropoutWrapperZeroState_1/BasicLSTMCellZeroState/Const_5\nlstm_nn/MultiRNNCellZeroState/DropoutWrapperZeroState_1/BasicLSTMCellZeroState/concat_1/axis\nlstm_nn/MultiRNNCellZeroState/DropoutWrapperZeroState_1/BasicLSTMCellZeroState/concat_1\nlstm_nn/MultiRNNCellZeroState/DropoutWrapperZeroState_1/BasicLSTMCellZeroState/zeros_1/Const\nlstm_nn/MultiRNNCellZeroState/DropoutWrapperZeroState_1/BasicLSTMCellZeroState/zeros_1\nlstm_nn/rnn/Rank\nlstm_nn/rnn/range/start\nlstm_nn/rnn/range/delta\nlstm_nn/rnn/range\nlstm_nn/rnn/concat/values_0\nlstm_nn/rnn/concat/axis\nlstm_nn/rnn/concat\nlstm_nn/rnn/transpose\nlstm_nn/rnn/Shape\nlstm_nn/rnn/strided_slice/stack\nlstm_nn/rnn/strided_slice/stack_1\nlstm_nn/rnn/strided_slice/stack_2\nlstm_nn/rnn/strided_slice\nlstm_nn/rnn/time\nlstm_nn/rnn/TensorArray\nlstm_nn/rnn/TensorArray_1\nlstm_nn/rnn/TensorArrayUnstack/Shape\nlstm_nn/rnn/TensorArrayUnstack/strided_slice/stack\nlstm_nn/rnn/TensorArrayUnstack/strided_slice/stack_1\nlstm_nn/rnn/TensorArrayUnstack/strided_slice/stack_2\nlstm_nn/rnn/TensorArrayUnstack/strided_slice\nlstm_nn/rnn/TensorArrayUnstack/range/start\nlstm_nn/rnn/TensorArrayUnstack/range/delta\nlstm_nn/rnn/TensorArrayUnstack/range\nlstm_nn/rnn/TensorArrayUnstack/TensorArrayScatter/TensorArrayScatterV3\nlstm_nn/rnn/Maximum/x\nlstm_nn/rnn/Maximum\nlstm_nn/rnn/Minimum\nlstm_nn/rnn/while/iteration_counter\nlstm_nn/rnn/while/Enter\nlstm_nn/rnn/while/Enter_1\nlstm_nn/rnn/while/Enter_2\nlstm_nn/rnn/while/Enter_3\nlstm_nn/rnn/while/Enter_4\nlstm_nn/rnn/while/Enter_5\nlstm_nn/rnn/while/Enter_6\nlstm_nn/rnn/while/Merge\nlstm_nn/rnn/while/Merge_1\nlstm_nn/rnn/while/Merge_2\nlstm_nn/rnn/while/Merge_3\nlstm_nn/rnn/while/Merge_4\nlstm_nn/rnn/while/Merge_5\nlstm_nn/rnn/while/Merge_6\nlstm_nn/rnn/while/Less/Enter\nlstm_nn/rnn/while/Less\nlstm_nn/rnn/while/Less_1/Enter\nlstm_nn/rnn/while/Less_1\nlstm_nn/rnn/while/LogicalAnd\nlstm_nn/rnn/while/LoopCond\nlstm_nn/rnn/while/Switch\nlstm_nn/rnn/while/Switch_1\nlstm_nn/rnn/while/Switch_2\nlstm_nn/rnn/while/Switch_3\nlstm_nn/rnn/while/Switch_4\nlstm_nn/rnn/while/Switch_5\nlstm_nn/rnn/while/Switch_6\nlstm_nn/rnn/while/Identity\nlstm_nn/rnn/while/Identity_1\nlstm_nn/rnn/while/Identity_2\nlstm_nn/rnn/while/Identity_3\nlstm_nn/rnn/while/Identity_4\nlstm_nn/rnn/while/Identity_5\nlstm_nn/rnn/while/Identity_6\nlstm_nn/rnn/while/add/y\nlstm_nn/rnn/while/add\nlstm_nn/rnn/while/TensorArrayReadV3/Enter\nlstm_nn/rnn/while/TensorArrayReadV3/Enter_1\nlstm_nn/rnn/while/TensorArrayReadV3\nlstm_nn/rnn/multi_rnn_cell/cell_0/basic_lstm_cell/kernel\nlstm_nn/rnn/multi_rnn_cell/cell_0/basic_lstm_cell/kernel/Read/ReadVariableOp\nlstm_nn/rnn/multi_rnn_cell/cell_0/basic_lstm_cell/kernel/Read/Identity\nlstm_nn/rnn/multi_rnn_cell/cell_0/basic_lstm_cell/bias\nlstm_nn/rnn/multi_rnn_cell/cell_0/basic_lstm_cell/bias/Read/ReadVariableOp\nlstm_nn/rnn/multi_rnn_cell/cell_0/basic_lstm_cell/bias/Read/Identity\nlstm_nn/rnn/while/rnn/multi_rnn_cell/cell_0/basic_lstm_cell/Const\nlstm_nn/rnn/while/rnn/multi_rnn_cell/cell_0/basic_lstm_cell/concat/axis\nlstm_nn/rnn/while/rnn/multi_rnn_cell/cell_0/basic_lstm_cell/concat\nlstm_nn/rnn/while/rnn/multi_rnn_cell/cell_0/basic_lstm_cell/MatMul/Enter\nlstm_nn/rnn/while/rnn/multi_rnn_cell/cell_0/basic_lstm_cell/MatMul\nlstm_nn/rnn/while/rnn/multi_rnn_cell/cell_0/basic_lstm_cell/BiasAdd/Enter\nlstm_nn/rnn/while/rnn/multi_rnn_cell/cell_0/basic_lstm_cell/BiasAdd\nlstm_nn/rnn/while/rnn/multi_rnn_cell/cell_0/basic_lstm_cell/split\nlstm_nn/rnn/while/rnn/multi_rnn_cell/cell_0/basic_lstm_cell/Const_2\nlstm_nn/rnn/while/rnn/multi_rnn_cell/cell_0/basic_lstm_cell/Add\nlstm_nn/rnn/while/rnn/multi_rnn_cell/cell_0/basic_lstm_cell/Sigmoid\nlstm_nn/rnn/while/rnn/multi_rnn_cell/cell_0/basic_lstm_cell/Mul\nlstm_nn/rnn/while/rnn/multi_rnn_cell/cell_0/basic_lstm_cell/Sigmoid_1\nlstm_nn/rnn/while/rnn/multi_rnn_cell/cell_0/basic_lstm_cell/Tanh\nlstm_nn/rnn/while/rnn/multi_rnn_cell/cell_0/basic_lstm_cell/Mul_1\nlstm_nn/rnn/while/rnn/multi_rnn_cell/cell_0/basic_lstm_cell/Add_1\nlstm_nn/rnn/while/rnn/multi_rnn_cell/cell_0/basic_lstm_cell/Tanh_1\nlstm_nn/rnn/while/rnn/multi_rnn_cell/cell_0/basic_lstm_cell/Sigmoid_2\nlstm_nn/rnn/while/rnn/multi_rnn_cell/cell_0/basic_lstm_cell/Mul_2\nlstm_nn/rnn/while/rnn/multi_rnn_cell/cell_0/sub/x\nlstm_nn/rnn/while/rnn/multi_rnn_cell/cell_0/sub/Enter\nlstm_nn/rnn/while/rnn/multi_rnn_cell/cell_0/sub\nlstm_nn/rnn/while/rnn/multi_rnn_cell/cell_0/dropout/Shape\nlstm_nn/rnn/while/rnn/multi_rnn_cell/cell_0/dropout/sub/x\nlstm_nn/rnn/while/rnn/multi_rnn_cell/cell_0/dropout/sub\nlstm_nn/rnn/while/rnn/multi_rnn_cell/cell_0/dropout/random_uniform/min\nlstm_nn/rnn/while/rnn/multi_rnn_cell/cell_0/dropout/random_uniform/max\nlstm_nn/rnn/while/rnn/multi_rnn_cell/cell_0/dropout/random_uniform/RandomUniform\nlstm_nn/rnn/while/rnn/multi_rnn_cell/cell_0/dropout/random_uniform/sub\nlstm_nn/rnn/while/rnn/multi_rnn_cell/cell_0/dropout/random_uniform/mul\nlstm_nn/rnn/while/rnn/multi_rnn_cell/cell_0/dropout/random_uniform\nlstm_nn/rnn/while/rnn/multi_rnn_cell/cell_0/dropout/add\nlstm_nn/rnn/while/rnn/multi_rnn_cell/cell_0/dropout/Floor\nlstm_nn/rnn/while/rnn/multi_rnn_cell/cell_0/dropout/truediv\nlstm_nn/rnn/while/rnn/multi_rnn_cell/cell_0/dropout/mul\nlstm_nn/rnn/multi_rnn_cell/cell_1/basic_lstm_cell/kernel\nlstm_nn/rnn/multi_rnn_cell/cell_1/basic_lstm_cell/kernel/Read/ReadVariableOp\nlstm_nn/rnn/multi_rnn_cell/cell_1/basic_lstm_cell/kernel/Read/Identity\nlstm_nn/rnn/multi_rnn_cell/cell_1/basic_lstm_cell/bias\nlstm_nn/rnn/multi_rnn_cell/cell_1/basic_lstm_cell/bias/Read/ReadVariableOp\nlstm_nn/rnn/multi_rnn_cell/cell_1/basic_lstm_cell/bias/Read/Identity\nlstm_nn/rnn/while/rnn/multi_rnn_cell/cell_1/basic_lstm_cell/Const\nlstm_nn/rnn/while/rnn/multi_rnn_cell/cell_1/basic_lstm_cell/concat/axis\nlstm_nn/rnn/while/rnn/multi_rnn_cell/cell_1/basic_lstm_cell/concat\nlstm_nn/rnn/while/rnn/multi_rnn_cell/cell_1/basic_lstm_cell/MatMul/Enter\nlstm_nn/rnn/while/rnn/multi_rnn_cell/cell_1/basic_lstm_cell/MatMul\nlstm_nn/rnn/while/rnn/multi_rnn_cell/cell_1/basic_lstm_cell/BiasAdd/Enter\nlstm_nn/rnn/while/rnn/multi_rnn_cell/cell_1/basic_lstm_cell/BiasAdd\nlstm_nn/rnn/while/rnn/multi_rnn_cell/cell_1/basic_lstm_cell/split\nlstm_nn/rnn/while/rnn/multi_rnn_cell/cell_1/basic_lstm_cell/Const_2\nlstm_nn/rnn/while/rnn/multi_rnn_cell/cell_1/basic_lstm_cell/Add\nlstm_nn/rnn/while/rnn/multi_rnn_cell/cell_1/basic_lstm_cell/Sigmoid\nlstm_nn/rnn/while/rnn/multi_rnn_cell/cell_1/basic_lstm_cell/Mul\nlstm_nn/rnn/while/rnn/multi_rnn_cell/cell_1/basic_lstm_cell/Sigmoid_1\nlstm_nn/rnn/while/rnn/multi_rnn_cell/cell_1/basic_lstm_cell/Tanh\nlstm_nn/rnn/while/rnn/multi_rnn_cell/cell_1/basic_lstm_cell/Mul_1\nlstm_nn/rnn/while/rnn/multi_rnn_cell/cell_1/basic_lstm_cell/Add_1\nlstm_nn/rnn/while/rnn/multi_rnn_cell/cell_1/basic_lstm_cell/Tanh_1\nlstm_nn/rnn/while/rnn/multi_rnn_cell/cell_1/basic_lstm_cell/Sigmoid_2\nlstm_nn/rnn/while/rnn/multi_rnn_cell/cell_1/basic_lstm_cell/Mul_2\nlstm_nn/rnn/while/rnn/multi_rnn_cell/cell_1/sub/x\nlstm_nn/rnn/while/rnn/multi_rnn_cell/cell_1/sub\nlstm_nn/rnn/while/rnn/multi_rnn_cell/cell_1/dropout/Shape\nlstm_nn/rnn/while/rnn/multi_rnn_cell/cell_1/dropout/sub/x\nlstm_nn/rnn/while/rnn/multi_rnn_cell/cell_1/dropout/sub\nlstm_nn/rnn/while/rnn/multi_rnn_cell/cell_1/dropout/random_uniform/min\nlstm_nn/rnn/while/rnn/multi_rnn_cell/cell_1/dropout/random_uniform/max\nlstm_nn/rnn/while/rnn/multi_rnn_cell/cell_1/dropout/random_uniform/RandomUniform\nlstm_nn/rnn/while/rnn/multi_rnn_cell/cell_1/dropout/random_uniform/sub\nlstm_nn/rnn/while/rnn/multi_rnn_cell/cell_1/dropout/random_uniform/mul\nlstm_nn/rnn/while/rnn/multi_rnn_cell/cell_1/dropout/random_uniform\nlstm_nn/rnn/while/rnn/multi_rnn_cell/cell_1/dropout/add\nlstm_nn/rnn/while/rnn/multi_rnn_cell/cell_1/dropout/Floor\nlstm_nn/rnn/while/rnn/multi_rnn_cell/cell_1/dropout/truediv\nlstm_nn/rnn/while/rnn/multi_rnn_cell/cell_1/dropout/mul\nlstm_nn/rnn/while/TensorArrayWrite/TensorArrayWriteV3/Enter\nlstm_nn/rnn/while/TensorArrayWrite/TensorArrayWriteV3\nlstm_nn/rnn/while/add_1/y\nlstm_nn/rnn/while/add_1\nlstm_nn/rnn/while/NextIteration\nlstm_nn/rnn/while/NextIteration_1\nlstm_nn/rnn/while/NextIteration_2\nlstm_nn/rnn/while/NextIteration_3\nlstm_nn/rnn/while/NextIteration_4\nlstm_nn/rnn/while/NextIteration_5\nlstm_nn/rnn/while/NextIteration_6\nlstm_nn/rnn/while/Exit_2\nlstm_nn/rnn/TensorArrayStack/TensorArraySizeV3\nlstm_nn/rnn/TensorArrayStack/range/start\nlstm_nn/rnn/TensorArrayStack/range/delta\nlstm_nn/rnn/TensorArrayStack/range\nlstm_nn/rnn/TensorArrayStack/TensorArrayGatherV3\nlstm_nn/rnn/Rank_1\nlstm_nn/rnn/range_1/start\nlstm_nn/rnn/range_1/delta\nlstm_nn/rnn/range_1\nlstm_nn/rnn/concat_2/values_0\nlstm_nn/rnn/concat_2/axis\nlstm_nn/rnn/concat_2\nlstm_nn/rnn/transpose_1\nlstm_nn/strided_slice/stack\nlstm_nn/strided_slice/stack_1\nlstm_nn/strided_slice/stack_2\nlstm_nn/strided_slice\nfc/fc1/kernel\nfc/fc1/kernel/read\nfc/fc1/bias\nfc/fc1/bias/read\nfc/fc1/MatMul\nfc/fc1/BiasAdd\nfc/fc1/Relu\nfc/Dropout/sub/x\nfc/Dropout/sub\nfc/Dropout/sub_1/x\nfc/Dropout/sub_1\nfc/Dropout/sub_2/x\nfc/Dropout/sub_2\nfc/Dropout/dropout_1/Shape\nfc/Dropout/dropout_1/sub/x\nfc/Dropout/dropout_1/sub\nfc/Dropout/dropout_1/random_uniform/min\nfc/Dropout/dropout_1/random_uniform/max\nfc/Dropout/dropout_1/random_uniform/RandomUniform\nfc/Dropout/dropout_1/random_uniform/sub\nfc/Dropout/dropout_1/random_uniform/mul\nfc/Dropout/dropout_1/random_uniform\nfc/Dropout/dropout_1/add\nfc/Dropout/dropout_1/Floor\nfc/Dropout/dropout_1/truediv\nfc/Dropout/dropout_1/mul\nfc/fc2/kernel\nfc/fc2/kernel/read\nfc/fc2/bias\nfc/fc2/bias/read\nfc/fc2/MatMul\nfc/fc2/BiasAdd\nmetrics/Softmax\nmetrics/ArgMax/dimension\nmetrics/ArgMax\n",
      "3\n"
     ],
     "output_type": "stream"
    }
   ],
   "source": [
    "# pb 转serving 的pb\n",
    "def load_model(model_path):\n",
    "    if not os.path.exists(model_path):\n",
    "        raise ValueError(\"model is not exists\")\n",
    "    model_graph = tf.Graph()\n",
    "    with model_graph.as_default():\n",
    "        od_graph_def = tf.GraphDef()\n",
    "        with tf.gfile.GFile(model_path, 'rb') as gf:\n",
    "            serialized_data = gf.read()\n",
    "            od_graph_def.ParseFromString(serialized_data)\n",
    "            tf.import_graph_def(od_graph_def, name='')\n",
    "    return model_graph\n",
    "\n",
    "model_path = r'.\\deep_learn\\jd_deep_learn\\jd_lstm_runout\\lstm_model\\jd_comment_lstm_model.pb'\n",
    "model_graph = load_model(model_path)\n",
    "inputs_x = model_graph.get_tensor_by_name('Placeholder:0')\n",
    "outputs = model_graph.get_tensor_by_name('metrics/ArgMax:0')\n",
    "keep_prob = model_graph.get_tensor_by_name('keep_prob:0')\n",
    "with model_graph.as_default():\n",
    "    with tf.Session(graph=model_graph) as sess:\n",
    "        for i in model_graph.as_graph_def().node:\n",
    "            print(i.name)\n",
    "        pred = sess.run(outputs, feed_dict={inputs_x: word_np, keep_prob:1})\n",
    "        print(pred[0])\n"
   ],
   "metadata": {
    "collapsed": false,
    "pycharm": {
     "name": "#%%\n",
     "is_executing": false
    }
   }
  },
  {
   "cell_type": "code",
   "execution_count": null,
   "outputs": [],
   "source": [
    "\n"
   ],
   "metadata": {
    "collapsed": false,
    "pycharm": {
     "name": "#%%\n"
    }
   }
  }
 ],
 "metadata": {
  "kernelspec": {
   "display_name": "Python 3",
   "language": "python",
   "name": "python3"
  },
  "language_info": {
   "codemirror_mode": {
    "name": "ipython",
    "version": 2
   },
   "file_extension": ".py",
   "mimetype": "text/x-python",
   "name": "python",
   "nbconvert_exporter": "python",
   "pygments_lexer": "ipython2",
   "version": "2.7.6"
  },
  "pycharm": {
   "stem_cell": {
    "cell_type": "raw",
    "source": [],
    "metadata": {
     "collapsed": false
    }
   }
  }
 },
 "nbformat": 4,
 "nbformat_minor": 0
}