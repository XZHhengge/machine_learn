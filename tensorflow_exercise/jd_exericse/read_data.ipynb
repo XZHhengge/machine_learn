{
 "cells": [
  {
   "cell_type": "code",
   "execution_count": 1,
   "metadata": {
    "collapsed": true,
    "pycharm": {
     "is_executing": false
    }
   },
   "outputs": [
    {
     "name": "stderr",
     "text": [
      "Building prefix dict from the default dictionary ...\n",
      "Loading model from cache C:\\Users\\ADMINI~1\\AppData\\Local\\Temp\\jieba.cache\n",
      "Loading model cost 0.585 seconds.\n",
      "Prefix dict has been built succesfully.\n"
     ],
     "output_type": "stream"
    }
   ],
   "source": [
    "import csv\n",
    "import jieba\n",
    "\n",
    "train_file = r'.\\deep_learn\\jd_deep_learn\\train_data.tsv'\n",
    "test_file = r'.\\deep_learn\\jd_deep_learn\\test_data.tsv'\n",
    "\n",
    "seg_train_file = r'.\\deep_learn\\jd_deep_learn\\seg_train_data.txt'\n",
    "seg_test_file = r'.\\deep_learn\\jd_deep_learn\\seg_test_data.txt'\n",
    "\n",
    "vocab_file = r'.\\deep_learn\\jd_deep_learn\\jd_vocab.txt'\n",
    "category_file = r'.\\deep_learn\\jd_deep_learn\\jd_category.txt'\n",
    "\n",
    "def generate_seg_file(input_file, out_seg_file):\n",
    "    csv_reader = csv.reader(open(input_file, encoding='utf-8'))\n",
    "    with open(out_seg_file, 'w', encoding='utf-8') as f:\n",
    "        for row in csv_reader:\n",
    "            content, label = row[0].replace('\\n', '').split('\\t')\n",
    "            # print(content, label)\n",
    "            word_iter = jieba.cut(content)\n",
    "            word_content = ''\n",
    "            for word in word_iter:\n",
    "                word = word.strip(' ')\n",
    "                if word != '':\n",
    "                    word_content += word + ' '\n",
    "            out_line = '{}\\t{}\\n'.format(label, word_content.strip(' '))\n",
    "            f.write(out_line)\n",
    "\n",
    "generate_seg_file(train_file, seg_train_file)\n",
    "generate_seg_file(test_file, seg_test_file)"
   ]
  },
  {
   "cell_type": "code",
   "execution_count": 2,
   "outputs": [],
   "source": [
    "def generate_vocab_file(input_seg_file, output_vocab_file):\n",
    "    with open(input_seg_file, 'r', encoding='utf-8') as f:\n",
    "        lines = f.readlines()\n",
    "    word_dict = {}\n",
    "    for line in lines:\n",
    "        label, content = line.strip('\\r\\n').split('\\t')\n",
    "        for word in content.split():\n",
    "            word_dict.setdefault(word, 0)\n",
    "            word_dict[word] += 1\n",
    "    \n",
    "    sorted_word_dict = sorted(\n",
    "        word_dict.items(), key= lambda d:d[1], reverse=True\n",
    "    )\n",
    "    with open(output_vocab_file, 'w', encoding='utf-8') as f:\n",
    "        f.write('<UNK>\\t1000000\\n')\n",
    "        for item in sorted_word_dict:\n",
    "            f.write('{}\\t{}\\n'.format(item[0], item[1]))\n",
    "        \n",
    "generate_vocab_file(seg_train_file, vocab_file)"
   ],
   "metadata": {
    "collapsed": false,
    "pycharm": {
     "name": "#%%\n",
     "is_executing": false
    }
   }
  },
  {
   "cell_type": "code",
   "execution_count": 3,
   "outputs": [
    {
     "name": "stdout",
     "text": [
      "5\t10000\n1\t8015\n2\t8346\n3\t10000\n4\n"
     ],
     "output_type": "stream"
    }
   ],
   "source": [
    "def generare_category_dict(input_file, category_file):\n",
    "    csv_reader = csv.reader(open(input_file, encoding='utf-8'))\n",
    "    category_dict = {}\n",
    "    with open(category_file, 'w', encoding='utf-8') as f:\n",
    "        for row in csv_reader:\n",
    "            content, label = row[0].replace('\\n', '').split('\\t')\n",
    "            category_dict.setdefault(label, 0)\n",
    "            category_dict[label] += 1\n",
    "        category_number = len(category_dict)\n",
    "        for category in category_dict:\n",
    "            line = '{}\\n'.format(category)\n",
    "            print('{}\\t{}'.format(category, category_dict[category]))\n",
    "            f.write(line)\n",
    "    print(category_number)\n",
    "\n",
    "generare_category_dict(train_file, category_file)\n",
    "\n"
   ],
   "metadata": {
    "collapsed": false,
    "pycharm": {
     "name": "#%%\n",
     "is_executing": false
    }
   }
  },
  {
   "cell_type": "code",
   "execution_count": 3,
   "outputs": [],
   "source": [
    "\n"
   ],
   "metadata": {
    "collapsed": false,
    "pycharm": {
     "name": "#%%\n",
     "is_executing": false
    }
   }
  }
 ],
 "metadata": {
  "kernelspec": {
   "display_name": "Python 3",
   "language": "python",
   "name": "python3"
  },
  "language_info": {
   "codemirror_mode": {
    "name": "ipython",
    "version": 2
   },
   "file_extension": ".py",
   "mimetype": "text/x-python",
   "name": "python",
   "nbconvert_exporter": "python",
   "pygments_lexer": "ipython2",
   "version": "2.7.6"
  },
  "pycharm": {
   "stem_cell": {
    "cell_type": "raw",
    "source": [],
    "metadata": {
     "collapsed": false
    }
   }
  }
 },
 "nbformat": 4,
 "nbformat_minor": 0
}