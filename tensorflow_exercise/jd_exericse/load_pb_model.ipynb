{
 "cells": [
  {
   "cell_type": "code",
   "execution_count": 26,
   "metadata": {
    "collapsed": true,
    "pycharm": {
     "is_executing": false
    }
   },
   "outputs": [
    {
     "name": "stdout",
     "text": [
      "(1, 120)\n"
     ],
     "output_type": "stream"
    }
   ],
   "source": [
    "import tensorflow as tf\n",
    "import os\n",
    "\n",
    "vocab_file = r'.\\deep_learn\\jd_deep_learn\\jd_vocab.txt'\n",
    "\n",
    "class Vocab:\n",
    "    def __init__(self, filename, num_word_threshold):\n",
    "        self._word_to_id = {}\n",
    "        self._unk = -1\n",
    "        self._num_word_threshold = num_word_threshold\n",
    "        self._read_dict(filename)\n",
    "        \n",
    "    def _read_dict(self, filename):\n",
    "        with open(filename, 'r', encoding='utf-8') as f:\n",
    "            lines = f.readlines()\n",
    "        for line in lines:\n",
    "            word, frequency = line.strip('\\r\\n').split('\\t')\n",
    "            frequency = int(frequency)\n",
    "            if frequency < self._num_word_threshold:\n",
    "                continue\n",
    "            idx = len(self._word_to_id)\n",
    "            if word == '<UNK>':\n",
    "                self._unk = idx\n",
    "            self._word_to_id[word] = idx\n",
    "    def word_to_id(self, word):\n",
    "        return self._word_to_id.get(word, self._unk)\n",
    "    \n",
    "    @property\n",
    "    def unk(self):\n",
    "        return self._unk\n",
    "    \n",
    "    def size(self):\n",
    "        return len(self._word_to_id)\n",
    "    \n",
    "    def sentence_to_id(self, sentence):\n",
    "        \n",
    "        word_ids = [self.word_to_id(cur_word) for cur_word in sentence.split()]\n",
    "        return word_ids\n",
    "vocab = Vocab(vocab_file, 10)\n",
    "vocab_size = vocab.size()\n",
    "\n",
    "\n",
    "sentence1 = '首先和评论手机，手机质感和流畅的还是很不错，系统很好就是新系统bug有点多，总体评价来说还是很不错的一个购物外形外观延用了苹果手机的一惯外形和材质，拿在手里很有质感和重量，去实体门店看过了，经常断货，没想到京东有，就果断拍下了！择这款手机的主要原因是它的 屏幕介于苹果11PRO和11PRO MAX 之间，对于我来讲，简直是为我定制的一样，怎样挑剔的我，都无话可说了！屏幕的分辨率也是很棒的，音效我感觉比以前的苹果手机也有进步。拍照效果一如既往的好啊，像素高的超前，还增加了广角拍摄，十分满意！运行速度流畅，反应速度很快，完美！'\n",
    "sentence2 = '非常差，太差了，垃圾手机'\n",
    "import jieba\n",
    "import numpy as np\n",
    "sentence_list = jieba.cut(sentence1)\n",
    "words = ' '.join([word for word in sentence_list])\n",
    "id_words = vocab.sentence_to_id(words)\n",
    "id_words = id_words[0: 120]\n",
    "padding_num = 120 - len(id_words)\n",
    "id_words = id_words + [0 for _ in range(padding_num)]\n",
    "np_id_words = np.asarray([id_words])\n",
    "print(np_id_words.shape)\n",
    "id_words_list = []\n",
    "for _ in range(100):\n",
    "    id_words_list.append(id_words)\n",
    "# print(np.asarray(id_words_list, dtype=np.int32))\n",
    "# print(np.asarray(id_words_list, dtype=np.int32).shape)\n",
    "word_np = np.asarray(id_words_list, dtype=np.int32)\n"
   ]
  },
  {
   "cell_type": "code",
   "execution_count": 14,
   "outputs": [
    {
     "name": "stdout",
     "text": [
      "Tensor(\"Placeholder:0\", shape=(100, 120), dtype=int32)\nPlaceholder\nkeep_prob\nembedding/embedding\nembedding/embedding/read\nembedding/embedding_lookup/axis\nembedding/embedding_lookup\nembedding/embedding_lookup/Identity\nlstm_nn/MultiRNNCellZeroState/DropoutWrapperZeroState/BasicLSTMCellZeroState/Const\nlstm_nn/MultiRNNCellZeroState/DropoutWrapperZeroState/BasicLSTMCellZeroState/Const_1\nlstm_nn/MultiRNNCellZeroState/DropoutWrapperZeroState/BasicLSTMCellZeroState/concat/axis\nlstm_nn/MultiRNNCellZeroState/DropoutWrapperZeroState/BasicLSTMCellZeroState/concat\nlstm_nn/MultiRNNCellZeroState/DropoutWrapperZeroState/BasicLSTMCellZeroState/zeros/Const\nlstm_nn/MultiRNNCellZeroState/DropoutWrapperZeroState/BasicLSTMCellZeroState/zeros\nlstm_nn/MultiRNNCellZeroState/DropoutWrapperZeroState/BasicLSTMCellZeroState/Const_4\nlstm_nn/MultiRNNCellZeroState/DropoutWrapperZeroState/BasicLSTMCellZeroState/Const_5\nlstm_nn/MultiRNNCellZeroState/DropoutWrapperZeroState/BasicLSTMCellZeroState/concat_1/axis\nlstm_nn/MultiRNNCellZeroState/DropoutWrapperZeroState/BasicLSTMCellZeroState/concat_1\nlstm_nn/MultiRNNCellZeroState/DropoutWrapperZeroState/BasicLSTMCellZeroState/zeros_1/Const\nlstm_nn/MultiRNNCellZeroState/DropoutWrapperZeroState/BasicLSTMCellZeroState/zeros_1\nlstm_nn/MultiRNNCellZeroState/DropoutWrapperZeroState_1/BasicLSTMCellZeroState/Const\nlstm_nn/MultiRNNCellZeroState/DropoutWrapperZeroState_1/BasicLSTMCellZeroState/Const_1\nlstm_nn/MultiRNNCellZeroState/DropoutWrapperZeroState_1/BasicLSTMCellZeroState/concat/axis\nlstm_nn/MultiRNNCellZeroState/DropoutWrapperZeroState_1/BasicLSTMCellZeroState/concat\nlstm_nn/MultiRNNCellZeroState/DropoutWrapperZeroState_1/BasicLSTMCellZeroState/zeros/Const\nlstm_nn/MultiRNNCellZeroState/DropoutWrapperZeroState_1/BasicLSTMCellZeroState/zeros\nlstm_nn/MultiRNNCellZeroState/DropoutWrapperZeroState_1/BasicLSTMCellZeroState/Const_4\nlstm_nn/MultiRNNCellZeroState/DropoutWrapperZeroState_1/BasicLSTMCellZeroState/Const_5\nlstm_nn/MultiRNNCellZeroState/DropoutWrapperZeroState_1/BasicLSTMCellZeroState/concat_1/axis\nlstm_nn/MultiRNNCellZeroState/DropoutWrapperZeroState_1/BasicLSTMCellZeroState/concat_1\nlstm_nn/MultiRNNCellZeroState/DropoutWrapperZeroState_1/BasicLSTMCellZeroState/zeros_1/Const\nlstm_nn/MultiRNNCellZeroState/DropoutWrapperZeroState_1/BasicLSTMCellZeroState/zeros_1\nlstm_nn/rnn/Rank\nlstm_nn/rnn/range/start\nlstm_nn/rnn/range/delta\nlstm_nn/rnn/range\nlstm_nn/rnn/concat/values_0\nlstm_nn/rnn/concat/axis\nlstm_nn/rnn/concat\nlstm_nn/rnn/transpose\nlstm_nn/rnn/Shape\nlstm_nn/rnn/strided_slice/stack\nlstm_nn/rnn/strided_slice/stack_1\nlstm_nn/rnn/strided_slice/stack_2\nlstm_nn/rnn/strided_slice\nlstm_nn/rnn/time\nlstm_nn/rnn/TensorArray\nlstm_nn/rnn/TensorArray_1\nlstm_nn/rnn/TensorArrayUnstack/Shape\nlstm_nn/rnn/TensorArrayUnstack/strided_slice/stack\nlstm_nn/rnn/TensorArrayUnstack/strided_slice/stack_1\nlstm_nn/rnn/TensorArrayUnstack/strided_slice/stack_2\nlstm_nn/rnn/TensorArrayUnstack/strided_slice\nlstm_nn/rnn/TensorArrayUnstack/range/start\nlstm_nn/rnn/TensorArrayUnstack/range/delta\nlstm_nn/rnn/TensorArrayUnstack/range\nlstm_nn/rnn/TensorArrayUnstack/TensorArrayScatter/TensorArrayScatterV3\nlstm_nn/rnn/Maximum/x\nlstm_nn/rnn/Maximum\nlstm_nn/rnn/Minimum\nlstm_nn/rnn/while/iteration_counter\nlstm_nn/rnn/while/Enter\nlstm_nn/rnn/while/Enter_1\nlstm_nn/rnn/while/Enter_2\nlstm_nn/rnn/while/Enter_3\nlstm_nn/rnn/while/Enter_4\nlstm_nn/rnn/while/Enter_5\nlstm_nn/rnn/while/Enter_6\nlstm_nn/rnn/while/Merge\nlstm_nn/rnn/while/Merge_1\nlstm_nn/rnn/while/Merge_2\nlstm_nn/rnn/while/Merge_3\nlstm_nn/rnn/while/Merge_4\nlstm_nn/rnn/while/Merge_5\nlstm_nn/rnn/while/Merge_6\nlstm_nn/rnn/while/Less/Enter\nlstm_nn/rnn/while/Less\nlstm_nn/rnn/while/Less_1/Enter\nlstm_nn/rnn/while/Less_1\nlstm_nn/rnn/while/LogicalAnd\nlstm_nn/rnn/while/LoopCond\nlstm_nn/rnn/while/Switch\nlstm_nn/rnn/while/Switch_1\nlstm_nn/rnn/while/Switch_2\nlstm_nn/rnn/while/Switch_3\nlstm_nn/rnn/while/Switch_4\nlstm_nn/rnn/while/Switch_5\nlstm_nn/rnn/while/Switch_6\nlstm_nn/rnn/while/Identity\nlstm_nn/rnn/while/Identity_1\nlstm_nn/rnn/while/Identity_2\nlstm_nn/rnn/while/Identity_3\nlstm_nn/rnn/while/Identity_4\nlstm_nn/rnn/while/Identity_5\nlstm_nn/rnn/while/Identity_6\nlstm_nn/rnn/while/add/y\nlstm_nn/rnn/while/add\nlstm_nn/rnn/while/TensorArrayReadV3/Enter\nlstm_nn/rnn/while/TensorArrayReadV3/Enter_1\nlstm_nn/rnn/while/TensorArrayReadV3\nlstm_nn/rnn/multi_rnn_cell/cell_0/basic_lstm_cell/kernel\nlstm_nn/rnn/multi_rnn_cell/cell_0/basic_lstm_cell/kernel/Read/ReadVariableOp\nlstm_nn/rnn/multi_rnn_cell/cell_0/basic_lstm_cell/kernel/Read/Identity\nlstm_nn/rnn/multi_rnn_cell/cell_0/basic_lstm_cell/bias\nlstm_nn/rnn/multi_rnn_cell/cell_0/basic_lstm_cell/bias/Read/ReadVariableOp\nlstm_nn/rnn/multi_rnn_cell/cell_0/basic_lstm_cell/bias/Read/Identity\nlstm_nn/rnn/while/rnn/multi_rnn_cell/cell_0/basic_lstm_cell/Const\nlstm_nn/rnn/while/rnn/multi_rnn_cell/cell_0/basic_lstm_cell/concat/axis\nlstm_nn/rnn/while/rnn/multi_rnn_cell/cell_0/basic_lstm_cell/concat\nlstm_nn/rnn/while/rnn/multi_rnn_cell/cell_0/basic_lstm_cell/MatMul/Enter\nlstm_nn/rnn/while/rnn/multi_rnn_cell/cell_0/basic_lstm_cell/MatMul\nlstm_nn/rnn/while/rnn/multi_rnn_cell/cell_0/basic_lstm_cell/BiasAdd/Enter\nlstm_nn/rnn/while/rnn/multi_rnn_cell/cell_0/basic_lstm_cell/BiasAdd\nlstm_nn/rnn/while/rnn/multi_rnn_cell/cell_0/basic_lstm_cell/split\nlstm_nn/rnn/while/rnn/multi_rnn_cell/cell_0/basic_lstm_cell/Const_2\nlstm_nn/rnn/while/rnn/multi_rnn_cell/cell_0/basic_lstm_cell/Add\nlstm_nn/rnn/while/rnn/multi_rnn_cell/cell_0/basic_lstm_cell/Sigmoid\nlstm_nn/rnn/while/rnn/multi_rnn_cell/cell_0/basic_lstm_cell/Mul\nlstm_nn/rnn/while/rnn/multi_rnn_cell/cell_0/basic_lstm_cell/Sigmoid_1\nlstm_nn/rnn/while/rnn/multi_rnn_cell/cell_0/basic_lstm_cell/Tanh\nlstm_nn/rnn/while/rnn/multi_rnn_cell/cell_0/basic_lstm_cell/Mul_1\nlstm_nn/rnn/while/rnn/multi_rnn_cell/cell_0/basic_lstm_cell/Add_1\nlstm_nn/rnn/while/rnn/multi_rnn_cell/cell_0/basic_lstm_cell/Tanh_1\nlstm_nn/rnn/while/rnn/multi_rnn_cell/cell_0/basic_lstm_cell/Sigmoid_2\nlstm_nn/rnn/while/rnn/multi_rnn_cell/cell_0/basic_lstm_cell/Mul_2\nlstm_nn/rnn/while/rnn/multi_rnn_cell/cell_0/sub/x\nlstm_nn/rnn/while/rnn/multi_rnn_cell/cell_0/sub/Enter\nlstm_nn/rnn/while/rnn/multi_rnn_cell/cell_0/sub\nlstm_nn/rnn/while/rnn/multi_rnn_cell/cell_0/dropout/Shape\nlstm_nn/rnn/while/rnn/multi_rnn_cell/cell_0/dropout/sub/x\nlstm_nn/rnn/while/rnn/multi_rnn_cell/cell_0/dropout/sub\nlstm_nn/rnn/while/rnn/multi_rnn_cell/cell_0/dropout/random_uniform/min\nlstm_nn/rnn/while/rnn/multi_rnn_cell/cell_0/dropout/random_uniform/max\nlstm_nn/rnn/while/rnn/multi_rnn_cell/cell_0/dropout/random_uniform/RandomUniform\nlstm_nn/rnn/while/rnn/multi_rnn_cell/cell_0/dropout/random_uniform/sub\nlstm_nn/rnn/while/rnn/multi_rnn_cell/cell_0/dropout/random_uniform/mul\nlstm_nn/rnn/while/rnn/multi_rnn_cell/cell_0/dropout/random_uniform\nlstm_nn/rnn/while/rnn/multi_rnn_cell/cell_0/dropout/add\nlstm_nn/rnn/while/rnn/multi_rnn_cell/cell_0/dropout/Floor\nlstm_nn/rnn/while/rnn/multi_rnn_cell/cell_0/dropout/truediv\nlstm_nn/rnn/while/rnn/multi_rnn_cell/cell_0/dropout/mul\nlstm_nn/rnn/multi_rnn_cell/cell_1/basic_lstm_cell/kernel\nlstm_nn/rnn/multi_rnn_cell/cell_1/basic_lstm_cell/kernel/Read/ReadVariableOp\nlstm_nn/rnn/multi_rnn_cell/cell_1/basic_lstm_cell/kernel/Read/Identity\nlstm_nn/rnn/multi_rnn_cell/cell_1/basic_lstm_cell/bias\nlstm_nn/rnn/multi_rnn_cell/cell_1/basic_lstm_cell/bias/Read/ReadVariableOp\nlstm_nn/rnn/multi_rnn_cell/cell_1/basic_lstm_cell/bias/Read/Identity\nlstm_nn/rnn/while/rnn/multi_rnn_cell/cell_1/basic_lstm_cell/Const\nlstm_nn/rnn/while/rnn/multi_rnn_cell/cell_1/basic_lstm_cell/concat/axis\nlstm_nn/rnn/while/rnn/multi_rnn_cell/cell_1/basic_lstm_cell/concat\nlstm_nn/rnn/while/rnn/multi_rnn_cell/cell_1/basic_lstm_cell/MatMul/Enter\nlstm_nn/rnn/while/rnn/multi_rnn_cell/cell_1/basic_lstm_cell/MatMul\nlstm_nn/rnn/while/rnn/multi_rnn_cell/cell_1/basic_lstm_cell/BiasAdd/Enter\nlstm_nn/rnn/while/rnn/multi_rnn_cell/cell_1/basic_lstm_cell/BiasAdd\nlstm_nn/rnn/while/rnn/multi_rnn_cell/cell_1/basic_lstm_cell/split\nlstm_nn/rnn/while/rnn/multi_rnn_cell/cell_1/basic_lstm_cell/Const_2\nlstm_nn/rnn/while/rnn/multi_rnn_cell/cell_1/basic_lstm_cell/Add\nlstm_nn/rnn/while/rnn/multi_rnn_cell/cell_1/basic_lstm_cell/Sigmoid\nlstm_nn/rnn/while/rnn/multi_rnn_cell/cell_1/basic_lstm_cell/Mul\nlstm_nn/rnn/while/rnn/multi_rnn_cell/cell_1/basic_lstm_cell/Sigmoid_1\nlstm_nn/rnn/while/rnn/multi_rnn_cell/cell_1/basic_lstm_cell/Tanh\nlstm_nn/rnn/while/rnn/multi_rnn_cell/cell_1/basic_lstm_cell/Mul_1\nlstm_nn/rnn/while/rnn/multi_rnn_cell/cell_1/basic_lstm_cell/Add_1\nlstm_nn/rnn/while/rnn/multi_rnn_cell/cell_1/basic_lstm_cell/Tanh_1\nlstm_nn/rnn/while/rnn/multi_rnn_cell/cell_1/basic_lstm_cell/Sigmoid_2\nlstm_nn/rnn/while/rnn/multi_rnn_cell/cell_1/basic_lstm_cell/Mul_2\nlstm_nn/rnn/while/rnn/multi_rnn_cell/cell_1/sub/x\nlstm_nn/rnn/while/rnn/multi_rnn_cell/cell_1/sub\nlstm_nn/rnn/while/rnn/multi_rnn_cell/cell_1/dropout/Shape\nlstm_nn/rnn/while/rnn/multi_rnn_cell/cell_1/dropout/sub/x\nlstm_nn/rnn/while/rnn/multi_rnn_cell/cell_1/dropout/sub\nlstm_nn/rnn/while/rnn/multi_rnn_cell/cell_1/dropout/random_uniform/min\nlstm_nn/rnn/while/rnn/multi_rnn_cell/cell_1/dropout/random_uniform/max\nlstm_nn/rnn/while/rnn/multi_rnn_cell/cell_1/dropout/random_uniform/RandomUniform\nlstm_nn/rnn/while/rnn/multi_rnn_cell/cell_1/dropout/random_uniform/sub\nlstm_nn/rnn/while/rnn/multi_rnn_cell/cell_1/dropout/random_uniform/mul\nlstm_nn/rnn/while/rnn/multi_rnn_cell/cell_1/dropout/random_uniform\nlstm_nn/rnn/while/rnn/multi_rnn_cell/cell_1/dropout/add\nlstm_nn/rnn/while/rnn/multi_rnn_cell/cell_1/dropout/Floor\nlstm_nn/rnn/while/rnn/multi_rnn_cell/cell_1/dropout/truediv\nlstm_nn/rnn/while/rnn/multi_rnn_cell/cell_1/dropout/mul\nlstm_nn/rnn/while/TensorArrayWrite/TensorArrayWriteV3/Enter\nlstm_nn/rnn/while/TensorArrayWrite/TensorArrayWriteV3\nlstm_nn/rnn/while/add_1/y\nlstm_nn/rnn/while/add_1\nlstm_nn/rnn/while/NextIteration\nlstm_nn/rnn/while/NextIteration_1\nlstm_nn/rnn/while/NextIteration_2\nlstm_nn/rnn/while/NextIteration_3\nlstm_nn/rnn/while/NextIteration_4\nlstm_nn/rnn/while/NextIteration_5\nlstm_nn/rnn/while/NextIteration_6\nlstm_nn/rnn/while/Exit_2\nlstm_nn/rnn/TensorArrayStack/TensorArraySizeV3\nlstm_nn/rnn/TensorArrayStack/range/start\nlstm_nn/rnn/TensorArrayStack/range/delta\nlstm_nn/rnn/TensorArrayStack/range\nlstm_nn/rnn/TensorArrayStack/TensorArrayGatherV3\nlstm_nn/rnn/Rank_1\nlstm_nn/rnn/range_1/start\nlstm_nn/rnn/range_1/delta\nlstm_nn/rnn/range_1\nlstm_nn/rnn/concat_2/values_0\nlstm_nn/rnn/concat_2/axis\nlstm_nn/rnn/concat_2\nlstm_nn/rnn/transpose_1\nlstm_nn/strided_slice/stack\nlstm_nn/strided_slice/stack_1\nlstm_nn/strided_slice/stack_2\nlstm_nn/strided_slice\nfc/fc1/kernel\nfc/fc1/kernel/read\nfc/fc1/bias\nfc/fc1/bias/read\nfc/fc1/MatMul\nfc/fc1/BiasAdd\nfc/fc1/Relu\nfc/Dropout/sub/x\nfc/Dropout/sub\nfc/Dropout/sub_1/x\nfc/Dropout/sub_1\nfc/Dropout/sub_2/x\nfc/Dropout/sub_2\nfc/Dropout/dropout_1/Shape\nfc/Dropout/dropout_1/sub/x\nfc/Dropout/dropout_1/sub\nfc/Dropout/dropout_1/random_uniform/min\nfc/Dropout/dropout_1/random_uniform/max\nfc/Dropout/dropout_1/random_uniform/RandomUniform\nfc/Dropout/dropout_1/random_uniform/sub\nfc/Dropout/dropout_1/random_uniform/mul\nfc/Dropout/dropout_1/random_uniform\nfc/Dropout/dropout_1/add\nfc/Dropout/dropout_1/Floor\nfc/Dropout/dropout_1/truediv\nfc/Dropout/dropout_1/mul\nfc/fc2/kernel\nfc/fc2/kernel/read\nfc/fc2/bias\nfc/fc2/bias/read\nfc/fc2/MatMul\nfc/fc2/BiasAdd\nmetrics/Softmax\nmetrics/ArgMax/dimension\nmetrics/ArgMax\n"
     ],
     "output_type": "stream"
    },
    {
     "traceback": [
      "\u001b[1;31m---------------------------------------------------------------------------\u001b[0m",
      "\u001b[1;31mValueError\u001b[0m                                Traceback (most recent call last)",
      "\u001b[1;32m<ipython-input-14-5994347698eb>\u001b[0m in \u001b[0;36m<module>\u001b[1;34m\u001b[0m\n\u001b[0;32m     26\u001b[0m         \u001b[1;32mfor\u001b[0m \u001b[0mi\u001b[0m \u001b[1;32min\u001b[0m \u001b[0mmodel_graph\u001b[0m\u001b[1;33m.\u001b[0m\u001b[0mas_graph_def\u001b[0m\u001b[1;33m(\u001b[0m\u001b[1;33m)\u001b[0m\u001b[1;33m.\u001b[0m\u001b[0mnode\u001b[0m\u001b[1;33m:\u001b[0m\u001b[1;33m\u001b[0m\u001b[1;33m\u001b[0m\u001b[0m\n\u001b[0;32m     27\u001b[0m             \u001b[0mprint\u001b[0m\u001b[1;33m(\u001b[0m\u001b[0mi\u001b[0m\u001b[1;33m.\u001b[0m\u001b[0mname\u001b[0m\u001b[1;33m)\u001b[0m\u001b[1;33m\u001b[0m\u001b[1;33m\u001b[0m\u001b[0m\n\u001b[1;32m---> 28\u001b[1;33m         \u001b[0mpred\u001b[0m \u001b[1;33m=\u001b[0m \u001b[0msess\u001b[0m\u001b[1;33m.\u001b[0m\u001b[0mrun\u001b[0m\u001b[1;33m(\u001b[0m\u001b[0moutputs\u001b[0m\u001b[1;33m,\u001b[0m \u001b[0mfeed_dict\u001b[0m\u001b[1;33m=\u001b[0m\u001b[1;33m{\u001b[0m\u001b[0minputs_x\u001b[0m\u001b[1;33m:\u001b[0m \u001b[0mnp_id_words\u001b[0m\u001b[1;33m,\u001b[0m \u001b[0mkeep_prob\u001b[0m\u001b[1;33m:\u001b[0m\u001b[1;36m1\u001b[0m\u001b[1;33m}\u001b[0m\u001b[1;33m)\u001b[0m\u001b[1;33m\u001b[0m\u001b[1;33m\u001b[0m\u001b[0m\n\u001b[0m\u001b[0;32m     29\u001b[0m         \u001b[0mprint\u001b[0m\u001b[1;33m(\u001b[0m\u001b[0mpred\u001b[0m\u001b[1;33m[\u001b[0m\u001b[1;36m0\u001b[0m\u001b[1;33m]\u001b[0m\u001b[1;33m)\u001b[0m\u001b[1;33m\u001b[0m\u001b[1;33m\u001b[0m\u001b[0m\n\u001b[0;32m     30\u001b[0m \u001b[1;33m\u001b[0m\u001b[0m\n",
      "\u001b[1;32mD:\\Anaconda\\lib\\site-packages\\tensorflow\\python\\client\\session.py\u001b[0m in \u001b[0;36mrun\u001b[1;34m(self, fetches, feed_dict, options, run_metadata)\u001b[0m\n\u001b[0;32m    927\u001b[0m     \u001b[1;32mtry\u001b[0m\u001b[1;33m:\u001b[0m\u001b[1;33m\u001b[0m\u001b[1;33m\u001b[0m\u001b[0m\n\u001b[0;32m    928\u001b[0m       result = self._run(None, fetches, feed_dict, options_ptr,\n\u001b[1;32m--> 929\u001b[1;33m                          run_metadata_ptr)\n\u001b[0m\u001b[0;32m    930\u001b[0m       \u001b[1;32mif\u001b[0m \u001b[0mrun_metadata\u001b[0m\u001b[1;33m:\u001b[0m\u001b[1;33m\u001b[0m\u001b[1;33m\u001b[0m\u001b[0m\n\u001b[0;32m    931\u001b[0m         \u001b[0mproto_data\u001b[0m \u001b[1;33m=\u001b[0m \u001b[0mtf_session\u001b[0m\u001b[1;33m.\u001b[0m\u001b[0mTF_GetBuffer\u001b[0m\u001b[1;33m(\u001b[0m\u001b[0mrun_metadata_ptr\u001b[0m\u001b[1;33m)\u001b[0m\u001b[1;33m\u001b[0m\u001b[1;33m\u001b[0m\u001b[0m\n",
      "\u001b[1;32mD:\\Anaconda\\lib\\site-packages\\tensorflow\\python\\client\\session.py\u001b[0m in \u001b[0;36m_run\u001b[1;34m(self, handle, fetches, feed_dict, options, run_metadata)\u001b[0m\n\u001b[0;32m   1126\u001b[0m                              \u001b[1;34m'which has shape %r'\u001b[0m \u001b[1;33m%\u001b[0m\u001b[1;33m\u001b[0m\u001b[1;33m\u001b[0m\u001b[0m\n\u001b[0;32m   1127\u001b[0m                              (np_val.shape, subfeed_t.name,\n\u001b[1;32m-> 1128\u001b[1;33m                               str(subfeed_t.get_shape())))\n\u001b[0m\u001b[0;32m   1129\u001b[0m           \u001b[1;32mif\u001b[0m \u001b[1;32mnot\u001b[0m \u001b[0mself\u001b[0m\u001b[1;33m.\u001b[0m\u001b[0mgraph\u001b[0m\u001b[1;33m.\u001b[0m\u001b[0mis_feedable\u001b[0m\u001b[1;33m(\u001b[0m\u001b[0msubfeed_t\u001b[0m\u001b[1;33m)\u001b[0m\u001b[1;33m:\u001b[0m\u001b[1;33m\u001b[0m\u001b[1;33m\u001b[0m\u001b[0m\n\u001b[0;32m   1130\u001b[0m             \u001b[1;32mraise\u001b[0m \u001b[0mValueError\u001b[0m\u001b[1;33m(\u001b[0m\u001b[1;34m'Tensor %s may not be fed.'\u001b[0m \u001b[1;33m%\u001b[0m \u001b[0msubfeed_t\u001b[0m\u001b[1;33m)\u001b[0m\u001b[1;33m\u001b[0m\u001b[1;33m\u001b[0m\u001b[0m\n",
      "\u001b[1;31mValueError\u001b[0m: Cannot feed value of shape (1, 120) for Tensor 'Placeholder:0', which has shape '(100, 120)'"
     ],
     "ename": "ValueError",
     "evalue": "Cannot feed value of shape (1, 120) for Tensor 'Placeholder:0', which has shape '(100, 120)'",
     "output_type": "error"
    }
   ],
   "source": [
    "def load_model(model_path):\n",
    "    if not os.path.exists(model_path):\n",
    "        raise ValueError(\"model is not exists\")\n",
    "    model_graph = tf.Graph()\n",
    "    with model_graph.as_default():\n",
    "        od_graph_def = tf.GraphDef()\n",
    "        with tf.gfile.GFile(model_path, 'rb') as gf:\n",
    "            serialized_data = gf.read()\n",
    "            od_graph_def.ParseFromString(serialized_data)\n",
    "            tf.import_graph_def(od_graph_def, name='')\n",
    "    return model_graph\n",
    "\n",
    "\n",
    "    \n",
    "\n",
    "fp_model_path = r'.\\deep_learn\\jd_deep_learn\\jd_lstm_runout\\lstm_model\\jd_comment_lstm_model.pb'\n",
    "model_path = r'.\\deep_learn\\jd_deep_learn\\jd_lstm_runout\\model\\jd_comment_cnn_serving\\saved_model.pb'\n",
    "model_graph = load_model(fp_model_path)\n",
    "inputs_x = model_graph.get_tensor_by_name('Placeholder:0')\n",
    "outputs = model_graph.get_tensor_by_name('metrics/ArgMax:0')\n",
    "keep_prob = model_graph.get_tensor_by_name('keep_prob:0')\n",
    "with model_graph.as_default():\n",
    "    with tf.Session(graph=model_graph) as sess:\n",
    "        print(inputs_x)\n",
    "        for i in model_graph.as_graph_def().node:\n",
    "            print(i.name)\n",
    "        pred = sess.run(outputs, feed_dict={inputs_x: word_np, keep_prob:1})\n",
    "        print(pred[0])\n"
   ],
   "metadata": {
    "collapsed": false,
    "pycharm": {
     "name": "#%%\n",
     "is_executing": false
    }
   }
  },
  {
   "cell_type": "code",
   "execution_count": 28,
   "outputs": [
    {
     "name": "stdout",
     "text": [
      "INFO:tensorflow:Restoring parameters from .\\deep_learn\\jd_deep_learn\\jd_lstm_runout\\jd_comment_lstm_serving\\variables\\variables\n",
      "name: \"Placeholder:0\"\ndtype: DT_INT32\ntensor_shape {\n  dim {\n    size: 100\n  }\n  dim {\n    size: 120\n  }\n}\n\n[3 3 3 3 3 3 3 3 3 3 3 3 3 3 3 3 3 3 3 3 3 3 3 3 3 3 3 3 3 3 3 3 3 3 3 3 3\n 3 3 3 3 3 3 3 3 3 3 3 3 3 3 3 3 3 3 3 3 3 3 3 3 3 3 3 3 3 3 3 3 3 3 3 3 3\n 3 3 3 3 3 3 3 3 3 3 3 3 3 3 3 3 3 3 3 3 3 3 3 3 3 3]\n"
     ],
     "output_type": "stream"
    }
   ],
   "source": [
    "from tensorflow import saved_model\n",
    "with tf.Session(graph=tf.Graph()) as sess:\n",
    "    MetaGraphDef = saved_model.loader.load(sess,[tf.saved_model.tag_constants.SERVING],\n",
    "                                           export_dir=\".\\deep_learn\\jd_deep_learn\\jd_lstm_runout\\jd_comment_lstm_serving\")\n",
    "    SignatureDef_d = MetaGraphDef.signature_def\n",
    "    SignatureDef = SignatureDef_d['jd_comment_lstm_predict']\n",
    "    # graph = tf.get_default_graph()\n",
    "    \n",
    "    # x = sess.graph.get_tensor_by_name(\"Placeholder:0\")\n",
    "    # y = sess.graph.get_tensor_by_name(\"metrics/ArgMax:0\")\n",
    "    # keep_prob2 = sess.graph.get_tensor_by_name('keep_prob:0')\n",
    "    x_TensorInfo = SignatureDef.inputs['inputs']\n",
    "    keep_prob2_TensorInfo = SignatureDef.inputs['keep_prob']\n",
    "    y_TensorInfo = SignatureDef.outputs['outputs']\n",
    "    print(x_TensorInfo)\n",
    "    x = saved_model.utils.get_tensor_from_tensor_info(x_TensorInfo, sess.graph)\n",
    "    keep_prob2 = saved_model.utils.get_tensor_from_tensor_info(keep_prob2_TensorInfo, sess.graph)\n",
    "    y = saved_model.utils.get_tensor_from_tensor_info(y_TensorInfo, sess.graph)\n",
    "    \n",
    "    pred = sess.run(y, feed_dict={x: word_np, keep_prob2:1})\n",
    "    print(pred)"
   ],
   "metadata": {
    "collapsed": false,
    "pycharm": {
     "name": "#%%\n",
     "is_executing": false
    }
   }
  },
  {
   "cell_type": "code",
   "execution_count": 31,
   "outputs": [
    {
     "traceback": [
      "\u001b[1;31m---------------------------------------------------------------------------\u001b[0m",
      "\u001b[1;31mRuntimeError\u001b[0m                              Traceback (most recent call last)",
      "\u001b[1;32m<ipython-input-31-43cd8a3cb0b0>\u001b[0m in \u001b[0;36m<module>\u001b[1;34m\u001b[0m\n\u001b[0;32m      3\u001b[0m \u001b[1;32mwith\u001b[0m \u001b[0mtf\u001b[0m\u001b[1;33m.\u001b[0m\u001b[0mSession\u001b[0m\u001b[1;33m(\u001b[0m\u001b[0mgraph\u001b[0m\u001b[1;33m=\u001b[0m\u001b[0mtf\u001b[0m\u001b[1;33m.\u001b[0m\u001b[0mGraph\u001b[0m\u001b[1;33m(\u001b[0m\u001b[1;33m)\u001b[0m\u001b[1;33m)\u001b[0m \u001b[1;32mas\u001b[0m \u001b[0msess\u001b[0m\u001b[1;33m:\u001b[0m\u001b[1;33m\u001b[0m\u001b[1;33m\u001b[0m\u001b[0m\n\u001b[0;32m      4\u001b[0m     MetaGraphDef = saved_model.loader.load(sess,[tf.saved_model.tag_constants.SERVING],\n\u001b[1;32m----> 5\u001b[1;33m                                            export_dir=\".\\deep_learn\\jd_deep_learn\\jd_cnn_runout\\jd_comment_cnn_serving\")\n\u001b[0m\u001b[0;32m      6\u001b[0m     \u001b[0mSignatureDef_d\u001b[0m \u001b[1;33m=\u001b[0m \u001b[0mMetaGraphDef\u001b[0m\u001b[1;33m.\u001b[0m\u001b[0msignature_def\u001b[0m\u001b[1;33m\u001b[0m\u001b[1;33m\u001b[0m\u001b[0m\n\u001b[0;32m      7\u001b[0m     \u001b[0mSignatureDef\u001b[0m \u001b[1;33m=\u001b[0m \u001b[0mSignatureDef_d\u001b[0m\u001b[1;33m[\u001b[0m\u001b[1;34m'jd_comment_cnn_predict'\u001b[0m\u001b[1;33m]\u001b[0m\u001b[1;33m\u001b[0m\u001b[1;33m\u001b[0m\u001b[0m\n",
      "\u001b[1;32mD:\\Anaconda\\lib\\site-packages\\tensorflow\\python\\util\\deprecation.py\u001b[0m in \u001b[0;36mnew_func\u001b[1;34m(*args, **kwargs)\u001b[0m\n\u001b[0;32m    322\u001b[0m               \u001b[1;34m'in a future version'\u001b[0m \u001b[1;32mif\u001b[0m \u001b[0mdate\u001b[0m \u001b[1;32mis\u001b[0m \u001b[1;32mNone\u001b[0m \u001b[1;32melse\u001b[0m \u001b[1;33m(\u001b[0m\u001b[1;34m'after %s'\u001b[0m \u001b[1;33m%\u001b[0m \u001b[0mdate\u001b[0m\u001b[1;33m)\u001b[0m\u001b[1;33m,\u001b[0m\u001b[1;33m\u001b[0m\u001b[1;33m\u001b[0m\u001b[0m\n\u001b[0;32m    323\u001b[0m               instructions)\n\u001b[1;32m--> 324\u001b[1;33m       \u001b[1;32mreturn\u001b[0m \u001b[0mfunc\u001b[0m\u001b[1;33m(\u001b[0m\u001b[1;33m*\u001b[0m\u001b[0margs\u001b[0m\u001b[1;33m,\u001b[0m \u001b[1;33m**\u001b[0m\u001b[0mkwargs\u001b[0m\u001b[1;33m)\u001b[0m\u001b[1;33m\u001b[0m\u001b[1;33m\u001b[0m\u001b[0m\n\u001b[0m\u001b[0;32m    325\u001b[0m     return tf_decorator.make_decorator(\n\u001b[0;32m    326\u001b[0m         \u001b[0mfunc\u001b[0m\u001b[1;33m,\u001b[0m \u001b[0mnew_func\u001b[0m\u001b[1;33m,\u001b[0m \u001b[1;34m'deprecated'\u001b[0m\u001b[1;33m,\u001b[0m\u001b[1;33m\u001b[0m\u001b[1;33m\u001b[0m\u001b[0m\n",
      "\u001b[1;32mD:\\Anaconda\\lib\\site-packages\\tensorflow\\python\\saved_model\\loader_impl.py\u001b[0m in \u001b[0;36mload\u001b[1;34m(sess, tags, export_dir, import_scope, **saver_kwargs)\u001b[0m\n\u001b[0;32m    267\u001b[0m   \"\"\"\n\u001b[0;32m    268\u001b[0m   \u001b[0mloader\u001b[0m \u001b[1;33m=\u001b[0m \u001b[0mSavedModelLoader\u001b[0m\u001b[1;33m(\u001b[0m\u001b[0mexport_dir\u001b[0m\u001b[1;33m)\u001b[0m\u001b[1;33m\u001b[0m\u001b[1;33m\u001b[0m\u001b[0m\n\u001b[1;32m--> 269\u001b[1;33m   \u001b[1;32mreturn\u001b[0m \u001b[0mloader\u001b[0m\u001b[1;33m.\u001b[0m\u001b[0mload\u001b[0m\u001b[1;33m(\u001b[0m\u001b[0msess\u001b[0m\u001b[1;33m,\u001b[0m \u001b[0mtags\u001b[0m\u001b[1;33m,\u001b[0m \u001b[0mimport_scope\u001b[0m\u001b[1;33m,\u001b[0m \u001b[1;33m**\u001b[0m\u001b[0msaver_kwargs\u001b[0m\u001b[1;33m)\u001b[0m\u001b[1;33m\u001b[0m\u001b[1;33m\u001b[0m\u001b[0m\n\u001b[0m\u001b[0;32m    270\u001b[0m \u001b[1;33m\u001b[0m\u001b[0m\n\u001b[0;32m    271\u001b[0m \u001b[1;33m\u001b[0m\u001b[0m\n",
      "\u001b[1;32mD:\\Anaconda\\lib\\site-packages\\tensorflow\\python\\saved_model\\loader_impl.py\u001b[0m in \u001b[0;36mload\u001b[1;34m(self, sess, tags, import_scope, **saver_kwargs)\u001b[0m\n\u001b[0;32m    418\u001b[0m     \u001b[1;32mwith\u001b[0m \u001b[0msess\u001b[0m\u001b[1;33m.\u001b[0m\u001b[0mgraph\u001b[0m\u001b[1;33m.\u001b[0m\u001b[0mas_default\u001b[0m\u001b[1;33m(\u001b[0m\u001b[1;33m)\u001b[0m\u001b[1;33m:\u001b[0m\u001b[1;33m\u001b[0m\u001b[1;33m\u001b[0m\u001b[0m\n\u001b[0;32m    419\u001b[0m       saver, _ = self.load_graph(sess.graph, tags, import_scope,\n\u001b[1;32m--> 420\u001b[1;33m                                  **saver_kwargs)\n\u001b[0m\u001b[0;32m    421\u001b[0m       \u001b[0mself\u001b[0m\u001b[1;33m.\u001b[0m\u001b[0mrestore_variables\u001b[0m\u001b[1;33m(\u001b[0m\u001b[0msess\u001b[0m\u001b[1;33m,\u001b[0m \u001b[0msaver\u001b[0m\u001b[1;33m,\u001b[0m \u001b[0mimport_scope\u001b[0m\u001b[1;33m)\u001b[0m\u001b[1;33m\u001b[0m\u001b[1;33m\u001b[0m\u001b[0m\n\u001b[0;32m    422\u001b[0m       \u001b[0mself\u001b[0m\u001b[1;33m.\u001b[0m\u001b[0mrun_init_ops\u001b[0m\u001b[1;33m(\u001b[0m\u001b[0msess\u001b[0m\u001b[1;33m,\u001b[0m \u001b[0mtags\u001b[0m\u001b[1;33m,\u001b[0m \u001b[0mimport_scope\u001b[0m\u001b[1;33m)\u001b[0m\u001b[1;33m\u001b[0m\u001b[1;33m\u001b[0m\u001b[0m\n",
      "\u001b[1;32mD:\\Anaconda\\lib\\site-packages\\tensorflow\\python\\saved_model\\loader_impl.py\u001b[0m in \u001b[0;36mload_graph\u001b[1;34m(self, graph, tags, import_scope, **saver_kwargs)\u001b[0m\n\u001b[0;32m    345\u001b[0m           \u001b[0;31m`\u001b[0m\u001b[0mtf\u001b[0m\u001b[1;33m.\u001b[0m\u001b[0mimport_graph_def\u001b[0m\u001b[0;31m`\u001b[0m \u001b[1;33m(\u001b[0m\u001b[0mmay\u001b[0m \u001b[0mbe\u001b[0m\u001b[0;31m \u001b[0m\u001b[0;31m`\u001b[0m\u001b[1;32mNone\u001b[0m\u001b[0;31m`\u001b[0m\u001b[1;33m)\u001b[0m\u001b[1;33m.\u001b[0m\u001b[1;33m\u001b[0m\u001b[1;33m\u001b[0m\u001b[0m\n\u001b[0;32m    346\u001b[0m     \"\"\"\n\u001b[1;32m--> 347\u001b[1;33m     \u001b[0mmeta_graph_def\u001b[0m \u001b[1;33m=\u001b[0m \u001b[0mself\u001b[0m\u001b[1;33m.\u001b[0m\u001b[0mget_meta_graph_def_from_tags\u001b[0m\u001b[1;33m(\u001b[0m\u001b[0mtags\u001b[0m\u001b[1;33m)\u001b[0m\u001b[1;33m\u001b[0m\u001b[1;33m\u001b[0m\u001b[0m\n\u001b[0m\u001b[0;32m    348\u001b[0m     \u001b[1;32mwith\u001b[0m \u001b[0mgraph\u001b[0m\u001b[1;33m.\u001b[0m\u001b[0mas_default\u001b[0m\u001b[1;33m(\u001b[0m\u001b[1;33m)\u001b[0m\u001b[1;33m:\u001b[0m\u001b[1;33m\u001b[0m\u001b[1;33m\u001b[0m\u001b[0m\n\u001b[0;32m    349\u001b[0m       return tf_saver._import_meta_graph_with_return_elements(  # pylint: disable=protected-access\n",
      "\u001b[1;32mD:\\Anaconda\\lib\\site-packages\\tensorflow\\python\\saved_model\\loader_impl.py\u001b[0m in \u001b[0;36mget_meta_graph_def_from_tags\u001b[1;34m(self, tags)\u001b[0m\n\u001b[0;32m    321\u001b[0m       raise RuntimeError(\n\u001b[0;32m    322\u001b[0m           \u001b[1;34m\"MetaGraphDef associated with tags \"\u001b[0m \u001b[1;33m+\u001b[0m \u001b[0mstr\u001b[0m\u001b[1;33m(\u001b[0m\u001b[0mtags\u001b[0m\u001b[1;33m)\u001b[0m\u001b[1;33m.\u001b[0m\u001b[0mstrip\u001b[0m\u001b[1;33m(\u001b[0m\u001b[1;34m\"[]\"\u001b[0m\u001b[1;33m)\u001b[0m \u001b[1;33m+\u001b[0m\u001b[1;33m\u001b[0m\u001b[1;33m\u001b[0m\u001b[0m\n\u001b[1;32m--> 323\u001b[1;33m           \u001b[1;34m\" could not be found in SavedModel. To inspect available tag-sets in\"\u001b[0m\u001b[1;33m\u001b[0m\u001b[1;33m\u001b[0m\u001b[0m\n\u001b[0m\u001b[0;32m    324\u001b[0m           \u001b[1;34m\" the SavedModel, please use the SavedModel CLI: `saved_model_cli`\"\u001b[0m\u001b[1;33m\u001b[0m\u001b[1;33m\u001b[0m\u001b[0m\n\u001b[0;32m    325\u001b[0m       )\n",
      "\u001b[1;31mRuntimeError\u001b[0m: MetaGraphDef associated with tags 'serve' could not be found in SavedModel. To inspect available tag-sets in the SavedModel, please use the SavedModel CLI: `saved_model_cli`"
     ],
     "ename": "RuntimeError",
     "evalue": "MetaGraphDef associated with tags 'serve' could not be found in SavedModel. To inspect available tag-sets in the SavedModel, please use the SavedModel CLI: `saved_model_cli`",
     "output_type": "error"
    }
   ],
   "source": [
    "from tensorflow import saved_model\n",
    "with tf.Session(graph=tf.Graph()) as sess:\n",
    "    MetaGraphDef = saved_model.loader.load(sess,[tf.saved_model.tag_constants.SERVING],\n",
    "                                           export_dir=\".\\deep_learn\\jd_deep_learn\\jd_cnn_runout\\jd_comment_cnn_serving\")\n",
    "    SignatureDef_d = MetaGraphDef.signature_def\n",
    "    SignatureDef = SignatureDef_d['jd_comment_cnn_predict']\n",
    "    # graph = tf.get_default_graph()\n",
    "    \n",
    "    # x = sess.graph.get_tensor_by_name(\"Placeholder:0\")\n",
    "    # y = sess.graph.get_tensor_by_name(\"metrics/ArgMax:0\")\n",
    "    # keep_prob2 = sess.graph.get_tensor_by_name('keep_prob:0')\n",
    "    x_TensorInfo = SignatureDef.inputs['inputs']\n",
    "    keep_prob2_TensorInfo = SignatureDef.inputs['keep_prob']\n",
    "    y_TensorInfo = SignatureDef.outputs['outputs']\n",
    "    print(x_TensorInfo)\n",
    "    x = saved_model.utils.get_tensor_from_tensor_info(x_TensorInfo, sess.graph)\n",
    "    keep_prob2 = saved_model.utils.get_tensor_from_tensor_info(keep_prob2_TensorInfo, sess.graph)\n",
    "    y = saved_model.utils.get_tensor_from_tensor_info(y_TensorInfo, sess.graph)\n",
    "    \n",
    "    pred = sess.run(y, feed_dict={x: word_np, keep_prob2:1})\n",
    "    print(pred)\n"
   ],
   "metadata": {
    "collapsed": false,
    "pycharm": {
     "name": "#%%\n",
     "is_executing": false
    }
   }
  },
  {
   "cell_type": "code",
   "execution_count": null,
   "outputs": [],
   "source": [
    "\n"
   ],
   "metadata": {
    "collapsed": false,
    "pycharm": {
     "name": "#%%\n"
    }
   }
  }
 ],
 "metadata": {
  "kernelspec": {
   "display_name": "Python 3",
   "language": "python",
   "name": "python3"
  },
  "language_info": {
   "codemirror_mode": {
    "name": "ipython",
    "version": 2
   },
   "file_extension": ".py",
   "mimetype": "text/x-python",
   "name": "python",
   "nbconvert_exporter": "python",
   "pygments_lexer": "ipython2",
   "version": "2.7.6"
  },
  "pycharm": {
   "stem_cell": {
    "cell_type": "raw",
    "source": [],
    "metadata": {
     "collapsed": false
    }
   }
  }
 },
 "nbformat": 4,
 "nbformat_minor": 0
}